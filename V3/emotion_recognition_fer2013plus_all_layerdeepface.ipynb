{
  "cells": [
    {
      "cell_type": "code",
      "execution_count": 1,
      "metadata": {
        "colab": {
          "base_uri": "https://localhost:8080/"
        },
        "id": "O0bpDHeNT21j",
        "outputId": "1cb306d1-4943-4adf-f313-8b7dfd01ae33"
      },
      "outputs": [
        {
          "output_type": "stream",
          "name": "stdout",
          "text": [
            "Mounted at /content/drive\n"
          ]
        }
      ],
      "source": [
        "from google.colab import drive\n",
        "drive.mount('/content/drive')"
      ]
    },
    {
      "cell_type": "code",
      "execution_count": 2,
      "metadata": {
        "id": "dR4TeCIoTvyV"
      },
      "outputs": [],
      "source": [
        "import os\n",
        "import pandas as pd\n",
        "import numpy as np\n",
        "import tensorflow as tf\n",
        "from matplotlib import pyplot as plt\n",
        "from sklearn.model_selection import train_test_split\n",
        "from tensorflow.keras.preprocessing.image import ImageDataGenerator"
      ]
    },
    {
      "cell_type": "code",
      "execution_count": 3,
      "metadata": {
        "colab": {
          "base_uri": "https://localhost:8080/",
          "height": 206
        },
        "id": "EozAAN9KTvyV",
        "outputId": "23b4602a-66a2-4d6f-bb49-586a36bc14bb"
      },
      "outputs": [
        {
          "output_type": "execute_result",
          "data": {
            "text/plain": [
              "   emotion                                             pixels     Usage\n",
              "0        0  30 24 21 23 25 25 49 67 84 103 120 125 130 139...  Training\n",
              "1        0  123 125 124 142 209 226 234 236 231 232 235 22...  Training\n",
              "2        0  236 230 225 226 228 209 199 193 196 211 199 19...  Training\n",
              "3        0  255 82 0 3 0 0 0 0 0 0 3 0 16 17 3 60 29 0 1 2...  Training\n",
              "4        0  206 208 209 212 214 216 216 219 221 222 222 22...  Training"
            ],
            "text/html": [
              "\n",
              "  <div id=\"df-e53a3669-434d-47bc-9463-6f35e343b584\" class=\"colab-df-container\">\n",
              "    <div>\n",
              "<style scoped>\n",
              "    .dataframe tbody tr th:only-of-type {\n",
              "        vertical-align: middle;\n",
              "    }\n",
              "\n",
              "    .dataframe tbody tr th {\n",
              "        vertical-align: top;\n",
              "    }\n",
              "\n",
              "    .dataframe thead th {\n",
              "        text-align: right;\n",
              "    }\n",
              "</style>\n",
              "<table border=\"1\" class=\"dataframe\">\n",
              "  <thead>\n",
              "    <tr style=\"text-align: right;\">\n",
              "      <th></th>\n",
              "      <th>emotion</th>\n",
              "      <th>pixels</th>\n",
              "      <th>Usage</th>\n",
              "    </tr>\n",
              "  </thead>\n",
              "  <tbody>\n",
              "    <tr>\n",
              "      <th>0</th>\n",
              "      <td>0</td>\n",
              "      <td>30 24 21 23 25 25 49 67 84 103 120 125 130 139...</td>\n",
              "      <td>Training</td>\n",
              "    </tr>\n",
              "    <tr>\n",
              "      <th>1</th>\n",
              "      <td>0</td>\n",
              "      <td>123 125 124 142 209 226 234 236 231 232 235 22...</td>\n",
              "      <td>Training</td>\n",
              "    </tr>\n",
              "    <tr>\n",
              "      <th>2</th>\n",
              "      <td>0</td>\n",
              "      <td>236 230 225 226 228 209 199 193 196 211 199 19...</td>\n",
              "      <td>Training</td>\n",
              "    </tr>\n",
              "    <tr>\n",
              "      <th>3</th>\n",
              "      <td>0</td>\n",
              "      <td>255 82 0 3 0 0 0 0 0 0 3 0 16 17 3 60 29 0 1 2...</td>\n",
              "      <td>Training</td>\n",
              "    </tr>\n",
              "    <tr>\n",
              "      <th>4</th>\n",
              "      <td>0</td>\n",
              "      <td>206 208 209 212 214 216 216 219 221 222 222 22...</td>\n",
              "      <td>Training</td>\n",
              "    </tr>\n",
              "  </tbody>\n",
              "</table>\n",
              "</div>\n",
              "    <div class=\"colab-df-buttons\">\n",
              "\n",
              "  <div class=\"colab-df-container\">\n",
              "    <button class=\"colab-df-convert\" onclick=\"convertToInteractive('df-e53a3669-434d-47bc-9463-6f35e343b584')\"\n",
              "            title=\"Convert this dataframe to an interactive table.\"\n",
              "            style=\"display:none;\">\n",
              "\n",
              "  <svg xmlns=\"http://www.w3.org/2000/svg\" height=\"24px\" viewBox=\"0 -960 960 960\">\n",
              "    <path d=\"M120-120v-720h720v720H120Zm60-500h600v-160H180v160Zm220 220h160v-160H400v160Zm0 220h160v-160H400v160ZM180-400h160v-160H180v160Zm440 0h160v-160H620v160ZM180-180h160v-160H180v160Zm440 0h160v-160H620v160Z\"/>\n",
              "  </svg>\n",
              "    </button>\n",
              "\n",
              "  <style>\n",
              "    .colab-df-container {\n",
              "      display:flex;\n",
              "      gap: 12px;\n",
              "    }\n",
              "\n",
              "    .colab-df-convert {\n",
              "      background-color: #E8F0FE;\n",
              "      border: none;\n",
              "      border-radius: 50%;\n",
              "      cursor: pointer;\n",
              "      display: none;\n",
              "      fill: #1967D2;\n",
              "      height: 32px;\n",
              "      padding: 0 0 0 0;\n",
              "      width: 32px;\n",
              "    }\n",
              "\n",
              "    .colab-df-convert:hover {\n",
              "      background-color: #E2EBFA;\n",
              "      box-shadow: 0px 1px 2px rgba(60, 64, 67, 0.3), 0px 1px 3px 1px rgba(60, 64, 67, 0.15);\n",
              "      fill: #174EA6;\n",
              "    }\n",
              "\n",
              "    .colab-df-buttons div {\n",
              "      margin-bottom: 4px;\n",
              "    }\n",
              "\n",
              "    [theme=dark] .colab-df-convert {\n",
              "      background-color: #3B4455;\n",
              "      fill: #D2E3FC;\n",
              "    }\n",
              "\n",
              "    [theme=dark] .colab-df-convert:hover {\n",
              "      background-color: #434B5C;\n",
              "      box-shadow: 0px 1px 3px 1px rgba(0, 0, 0, 0.15);\n",
              "      filter: drop-shadow(0px 1px 2px rgba(0, 0, 0, 0.3));\n",
              "      fill: #FFFFFF;\n",
              "    }\n",
              "  </style>\n",
              "\n",
              "    <script>\n",
              "      const buttonEl =\n",
              "        document.querySelector('#df-e53a3669-434d-47bc-9463-6f35e343b584 button.colab-df-convert');\n",
              "      buttonEl.style.display =\n",
              "        google.colab.kernel.accessAllowed ? 'block' : 'none';\n",
              "\n",
              "      async function convertToInteractive(key) {\n",
              "        const element = document.querySelector('#df-e53a3669-434d-47bc-9463-6f35e343b584');\n",
              "        const dataTable =\n",
              "          await google.colab.kernel.invokeFunction('convertToInteractive',\n",
              "                                                    [key], {});\n",
              "        if (!dataTable) return;\n",
              "\n",
              "        const docLinkHtml = 'Like what you see? Visit the ' +\n",
              "          '<a target=\"_blank\" href=https://colab.research.google.com/notebooks/data_table.ipynb>data table notebook</a>'\n",
              "          + ' to learn more about interactive tables.';\n",
              "        element.innerHTML = '';\n",
              "        dataTable['output_type'] = 'display_data';\n",
              "        await google.colab.output.renderOutput(dataTable, element);\n",
              "        const docLink = document.createElement('div');\n",
              "        docLink.innerHTML = docLinkHtml;\n",
              "        element.appendChild(docLink);\n",
              "      }\n",
              "    </script>\n",
              "  </div>\n",
              "\n",
              "\n",
              "<div id=\"df-1e0a0c03-836f-47b9-8f13-e7637b71961f\">\n",
              "  <button class=\"colab-df-quickchart\" onclick=\"quickchart('df-1e0a0c03-836f-47b9-8f13-e7637b71961f')\"\n",
              "            title=\"Suggest charts.\"\n",
              "            style=\"display:none;\">\n",
              "\n",
              "<svg xmlns=\"http://www.w3.org/2000/svg\" height=\"24px\"viewBox=\"0 0 24 24\"\n",
              "     width=\"24px\">\n",
              "    <g>\n",
              "        <path d=\"M19 3H5c-1.1 0-2 .9-2 2v14c0 1.1.9 2 2 2h14c1.1 0 2-.9 2-2V5c0-1.1-.9-2-2-2zM9 17H7v-7h2v7zm4 0h-2V7h2v10zm4 0h-2v-4h2v4z\"/>\n",
              "    </g>\n",
              "</svg>\n",
              "  </button>\n",
              "\n",
              "<style>\n",
              "  .colab-df-quickchart {\n",
              "      --bg-color: #E8F0FE;\n",
              "      --fill-color: #1967D2;\n",
              "      --hover-bg-color: #E2EBFA;\n",
              "      --hover-fill-color: #174EA6;\n",
              "      --disabled-fill-color: #AAA;\n",
              "      --disabled-bg-color: #DDD;\n",
              "  }\n",
              "\n",
              "  [theme=dark] .colab-df-quickchart {\n",
              "      --bg-color: #3B4455;\n",
              "      --fill-color: #D2E3FC;\n",
              "      --hover-bg-color: #434B5C;\n",
              "      --hover-fill-color: #FFFFFF;\n",
              "      --disabled-bg-color: #3B4455;\n",
              "      --disabled-fill-color: #666;\n",
              "  }\n",
              "\n",
              "  .colab-df-quickchart {\n",
              "    background-color: var(--bg-color);\n",
              "    border: none;\n",
              "    border-radius: 50%;\n",
              "    cursor: pointer;\n",
              "    display: none;\n",
              "    fill: var(--fill-color);\n",
              "    height: 32px;\n",
              "    padding: 0;\n",
              "    width: 32px;\n",
              "  }\n",
              "\n",
              "  .colab-df-quickchart:hover {\n",
              "    background-color: var(--hover-bg-color);\n",
              "    box-shadow: 0 1px 2px rgba(60, 64, 67, 0.3), 0 1px 3px 1px rgba(60, 64, 67, 0.15);\n",
              "    fill: var(--button-hover-fill-color);\n",
              "  }\n",
              "\n",
              "  .colab-df-quickchart-complete:disabled,\n",
              "  .colab-df-quickchart-complete:disabled:hover {\n",
              "    background-color: var(--disabled-bg-color);\n",
              "    fill: var(--disabled-fill-color);\n",
              "    box-shadow: none;\n",
              "  }\n",
              "\n",
              "  .colab-df-spinner {\n",
              "    border: 2px solid var(--fill-color);\n",
              "    border-color: transparent;\n",
              "    border-bottom-color: var(--fill-color);\n",
              "    animation:\n",
              "      spin 1s steps(1) infinite;\n",
              "  }\n",
              "\n",
              "  @keyframes spin {\n",
              "    0% {\n",
              "      border-color: transparent;\n",
              "      border-bottom-color: var(--fill-color);\n",
              "      border-left-color: var(--fill-color);\n",
              "    }\n",
              "    20% {\n",
              "      border-color: transparent;\n",
              "      border-left-color: var(--fill-color);\n",
              "      border-top-color: var(--fill-color);\n",
              "    }\n",
              "    30% {\n",
              "      border-color: transparent;\n",
              "      border-left-color: var(--fill-color);\n",
              "      border-top-color: var(--fill-color);\n",
              "      border-right-color: var(--fill-color);\n",
              "    }\n",
              "    40% {\n",
              "      border-color: transparent;\n",
              "      border-right-color: var(--fill-color);\n",
              "      border-top-color: var(--fill-color);\n",
              "    }\n",
              "    60% {\n",
              "      border-color: transparent;\n",
              "      border-right-color: var(--fill-color);\n",
              "    }\n",
              "    80% {\n",
              "      border-color: transparent;\n",
              "      border-right-color: var(--fill-color);\n",
              "      border-bottom-color: var(--fill-color);\n",
              "    }\n",
              "    90% {\n",
              "      border-color: transparent;\n",
              "      border-bottom-color: var(--fill-color);\n",
              "    }\n",
              "  }\n",
              "</style>\n",
              "\n",
              "  <script>\n",
              "    async function quickchart(key) {\n",
              "      const quickchartButtonEl =\n",
              "        document.querySelector('#' + key + ' button');\n",
              "      quickchartButtonEl.disabled = true;  // To prevent multiple clicks.\n",
              "      quickchartButtonEl.classList.add('colab-df-spinner');\n",
              "      try {\n",
              "        const charts = await google.colab.kernel.invokeFunction(\n",
              "            'suggestCharts', [key], {});\n",
              "      } catch (error) {\n",
              "        console.error('Error during call to suggestCharts:', error);\n",
              "      }\n",
              "      quickchartButtonEl.classList.remove('colab-df-spinner');\n",
              "      quickchartButtonEl.classList.add('colab-df-quickchart-complete');\n",
              "    }\n",
              "    (() => {\n",
              "      let quickchartButtonEl =\n",
              "        document.querySelector('#df-1e0a0c03-836f-47b9-8f13-e7637b71961f button');\n",
              "      quickchartButtonEl.style.display =\n",
              "        google.colab.kernel.accessAllowed ? 'block' : 'none';\n",
              "    })();\n",
              "  </script>\n",
              "</div>\n",
              "    </div>\n",
              "  </div>\n"
            ]
          },
          "metadata": {},
          "execution_count": 3
        }
      ],
      "source": [
        "df = pd.read_csv('/content/drive/MyDrive/face_emotion/Dataset/fer2013plusnew.csv')\n",
        "df.head()"
      ]
    },
    {
      "cell_type": "code",
      "execution_count": 4,
      "metadata": {
        "colab": {
          "base_uri": "https://localhost:8080/"
        },
        "id": "K0fZXl5PUV7j",
        "outputId": "e8d917f9-bb43-4c1e-ad86-83420dc8ff4d"
      },
      "outputs": [
        {
          "output_type": "execute_result",
          "data": {
            "text/plain": [
              "6    12905\n",
              "3     9355\n",
              "5     4462\n",
              "4     4370\n",
              "0     3110\n",
              "2      819\n",
              "1      248\n",
              "7      216\n",
              "Name: emotion, dtype: int64"
            ]
          },
          "metadata": {},
          "execution_count": 4
        }
      ],
      "source": [
        "df['emotion'].value_counts()"
      ]
    },
    {
      "cell_type": "code",
      "execution_count": 5,
      "metadata": {
        "id": "JtG0FDn6UB6b",
        "colab": {
          "base_uri": "https://localhost:8080/",
          "height": 72
        },
        "outputId": "d13d3f15-9932-40e2-e2ec-17b5c03ba1a0"
      },
      "outputs": [
        {
          "output_type": "execute_result",
          "data": {
            "text/plain": [
              "\"\\n# mapping into positive, negative, neutral\\n# Create a dictionary to define the class mapping\\nclass_mapping = {\\n    3: 0,  # happiness (Positive)\\n    5: 0,  # surprise (Positive)\\n    6: 1,  # Neutral\\n    0: 2,  # anger (Negative)\\n    1: 2,  # disgust (Negative)\\n    2: 2,  # fear (Negative)\\n    4: 2,  # sadness (Negative)\\n    7: 2,  # contemp (Negative)\\n}\\n\\n# Map the 'emotion' column\\n#df['emotion'] = df['emotion'].map(class_mapping)\\n\""
            ],
            "application/vnd.google.colaboratory.intrinsic+json": {
              "type": "string"
            }
          },
          "metadata": {},
          "execution_count": 5
        }
      ],
      "source": [
        "\"\"\"\n",
        "# mapping into positive, negative, neutral\n",
        "# Create a dictionary to define the class mapping\n",
        "class_mapping = {\n",
        "    3: 0,  # happiness (Positive)\n",
        "    5: 0,  # surprise (Positive)\n",
        "    6: 1,  # Neutral\n",
        "    0: 2,  # anger (Negative)\n",
        "    1: 2,  # disgust (Negative)\n",
        "    2: 2,  # fear (Negative)\n",
        "    4: 2,  # sadness (Negative)\n",
        "    7: 2,  # contemp (Negative)\n",
        "}\n",
        "\n",
        "# Map the 'emotion' column\n",
        "#df['emotion'] = df['emotion'].map(class_mapping)\n",
        "\"\"\""
      ]
    },
    {
      "cell_type": "code",
      "execution_count": 6,
      "metadata": {
        "id": "zxO-JAr-Wcto",
        "colab": {
          "base_uri": "https://localhost:8080/",
          "height": 206
        },
        "outputId": "6fa691bb-8a66-4e93-d1db-ba0e17a7eec3"
      },
      "outputs": [
        {
          "output_type": "execute_result",
          "data": {
            "text/plain": [
              "   emotion                                             pixels     Usage\n",
              "0        0  30 24 21 23 25 25 49 67 84 103 120 125 130 139...  Training\n",
              "1        0  123 125 124 142 209 226 234 236 231 232 235 22...  Training\n",
              "2        0  236 230 225 226 228 209 199 193 196 211 199 19...  Training\n",
              "3        0  255 82 0 3 0 0 0 0 0 0 3 0 16 17 3 60 29 0 1 2...  Training\n",
              "4        0  206 208 209 212 214 216 216 219 221 222 222 22...  Training"
            ],
            "text/html": [
              "\n",
              "  <div id=\"df-bd37f247-00ff-4591-974e-8358219ba134\" class=\"colab-df-container\">\n",
              "    <div>\n",
              "<style scoped>\n",
              "    .dataframe tbody tr th:only-of-type {\n",
              "        vertical-align: middle;\n",
              "    }\n",
              "\n",
              "    .dataframe tbody tr th {\n",
              "        vertical-align: top;\n",
              "    }\n",
              "\n",
              "    .dataframe thead th {\n",
              "        text-align: right;\n",
              "    }\n",
              "</style>\n",
              "<table border=\"1\" class=\"dataframe\">\n",
              "  <thead>\n",
              "    <tr style=\"text-align: right;\">\n",
              "      <th></th>\n",
              "      <th>emotion</th>\n",
              "      <th>pixels</th>\n",
              "      <th>Usage</th>\n",
              "    </tr>\n",
              "  </thead>\n",
              "  <tbody>\n",
              "    <tr>\n",
              "      <th>0</th>\n",
              "      <td>0</td>\n",
              "      <td>30 24 21 23 25 25 49 67 84 103 120 125 130 139...</td>\n",
              "      <td>Training</td>\n",
              "    </tr>\n",
              "    <tr>\n",
              "      <th>1</th>\n",
              "      <td>0</td>\n",
              "      <td>123 125 124 142 209 226 234 236 231 232 235 22...</td>\n",
              "      <td>Training</td>\n",
              "    </tr>\n",
              "    <tr>\n",
              "      <th>2</th>\n",
              "      <td>0</td>\n",
              "      <td>236 230 225 226 228 209 199 193 196 211 199 19...</td>\n",
              "      <td>Training</td>\n",
              "    </tr>\n",
              "    <tr>\n",
              "      <th>3</th>\n",
              "      <td>0</td>\n",
              "      <td>255 82 0 3 0 0 0 0 0 0 3 0 16 17 3 60 29 0 1 2...</td>\n",
              "      <td>Training</td>\n",
              "    </tr>\n",
              "    <tr>\n",
              "      <th>4</th>\n",
              "      <td>0</td>\n",
              "      <td>206 208 209 212 214 216 216 219 221 222 222 22...</td>\n",
              "      <td>Training</td>\n",
              "    </tr>\n",
              "  </tbody>\n",
              "</table>\n",
              "</div>\n",
              "    <div class=\"colab-df-buttons\">\n",
              "\n",
              "  <div class=\"colab-df-container\">\n",
              "    <button class=\"colab-df-convert\" onclick=\"convertToInteractive('df-bd37f247-00ff-4591-974e-8358219ba134')\"\n",
              "            title=\"Convert this dataframe to an interactive table.\"\n",
              "            style=\"display:none;\">\n",
              "\n",
              "  <svg xmlns=\"http://www.w3.org/2000/svg\" height=\"24px\" viewBox=\"0 -960 960 960\">\n",
              "    <path d=\"M120-120v-720h720v720H120Zm60-500h600v-160H180v160Zm220 220h160v-160H400v160Zm0 220h160v-160H400v160ZM180-400h160v-160H180v160Zm440 0h160v-160H620v160ZM180-180h160v-160H180v160Zm440 0h160v-160H620v160Z\"/>\n",
              "  </svg>\n",
              "    </button>\n",
              "\n",
              "  <style>\n",
              "    .colab-df-container {\n",
              "      display:flex;\n",
              "      gap: 12px;\n",
              "    }\n",
              "\n",
              "    .colab-df-convert {\n",
              "      background-color: #E8F0FE;\n",
              "      border: none;\n",
              "      border-radius: 50%;\n",
              "      cursor: pointer;\n",
              "      display: none;\n",
              "      fill: #1967D2;\n",
              "      height: 32px;\n",
              "      padding: 0 0 0 0;\n",
              "      width: 32px;\n",
              "    }\n",
              "\n",
              "    .colab-df-convert:hover {\n",
              "      background-color: #E2EBFA;\n",
              "      box-shadow: 0px 1px 2px rgba(60, 64, 67, 0.3), 0px 1px 3px 1px rgba(60, 64, 67, 0.15);\n",
              "      fill: #174EA6;\n",
              "    }\n",
              "\n",
              "    .colab-df-buttons div {\n",
              "      margin-bottom: 4px;\n",
              "    }\n",
              "\n",
              "    [theme=dark] .colab-df-convert {\n",
              "      background-color: #3B4455;\n",
              "      fill: #D2E3FC;\n",
              "    }\n",
              "\n",
              "    [theme=dark] .colab-df-convert:hover {\n",
              "      background-color: #434B5C;\n",
              "      box-shadow: 0px 1px 3px 1px rgba(0, 0, 0, 0.15);\n",
              "      filter: drop-shadow(0px 1px 2px rgba(0, 0, 0, 0.3));\n",
              "      fill: #FFFFFF;\n",
              "    }\n",
              "  </style>\n",
              "\n",
              "    <script>\n",
              "      const buttonEl =\n",
              "        document.querySelector('#df-bd37f247-00ff-4591-974e-8358219ba134 button.colab-df-convert');\n",
              "      buttonEl.style.display =\n",
              "        google.colab.kernel.accessAllowed ? 'block' : 'none';\n",
              "\n",
              "      async function convertToInteractive(key) {\n",
              "        const element = document.querySelector('#df-bd37f247-00ff-4591-974e-8358219ba134');\n",
              "        const dataTable =\n",
              "          await google.colab.kernel.invokeFunction('convertToInteractive',\n",
              "                                                    [key], {});\n",
              "        if (!dataTable) return;\n",
              "\n",
              "        const docLinkHtml = 'Like what you see? Visit the ' +\n",
              "          '<a target=\"_blank\" href=https://colab.research.google.com/notebooks/data_table.ipynb>data table notebook</a>'\n",
              "          + ' to learn more about interactive tables.';\n",
              "        element.innerHTML = '';\n",
              "        dataTable['output_type'] = 'display_data';\n",
              "        await google.colab.output.renderOutput(dataTable, element);\n",
              "        const docLink = document.createElement('div');\n",
              "        docLink.innerHTML = docLinkHtml;\n",
              "        element.appendChild(docLink);\n",
              "      }\n",
              "    </script>\n",
              "  </div>\n",
              "\n",
              "\n",
              "<div id=\"df-a1f17f7c-e02e-4c3b-9f76-c5ace4811d50\">\n",
              "  <button class=\"colab-df-quickchart\" onclick=\"quickchart('df-a1f17f7c-e02e-4c3b-9f76-c5ace4811d50')\"\n",
              "            title=\"Suggest charts.\"\n",
              "            style=\"display:none;\">\n",
              "\n",
              "<svg xmlns=\"http://www.w3.org/2000/svg\" height=\"24px\"viewBox=\"0 0 24 24\"\n",
              "     width=\"24px\">\n",
              "    <g>\n",
              "        <path d=\"M19 3H5c-1.1 0-2 .9-2 2v14c0 1.1.9 2 2 2h14c1.1 0 2-.9 2-2V5c0-1.1-.9-2-2-2zM9 17H7v-7h2v7zm4 0h-2V7h2v10zm4 0h-2v-4h2v4z\"/>\n",
              "    </g>\n",
              "</svg>\n",
              "  </button>\n",
              "\n",
              "<style>\n",
              "  .colab-df-quickchart {\n",
              "      --bg-color: #E8F0FE;\n",
              "      --fill-color: #1967D2;\n",
              "      --hover-bg-color: #E2EBFA;\n",
              "      --hover-fill-color: #174EA6;\n",
              "      --disabled-fill-color: #AAA;\n",
              "      --disabled-bg-color: #DDD;\n",
              "  }\n",
              "\n",
              "  [theme=dark] .colab-df-quickchart {\n",
              "      --bg-color: #3B4455;\n",
              "      --fill-color: #D2E3FC;\n",
              "      --hover-bg-color: #434B5C;\n",
              "      --hover-fill-color: #FFFFFF;\n",
              "      --disabled-bg-color: #3B4455;\n",
              "      --disabled-fill-color: #666;\n",
              "  }\n",
              "\n",
              "  .colab-df-quickchart {\n",
              "    background-color: var(--bg-color);\n",
              "    border: none;\n",
              "    border-radius: 50%;\n",
              "    cursor: pointer;\n",
              "    display: none;\n",
              "    fill: var(--fill-color);\n",
              "    height: 32px;\n",
              "    padding: 0;\n",
              "    width: 32px;\n",
              "  }\n",
              "\n",
              "  .colab-df-quickchart:hover {\n",
              "    background-color: var(--hover-bg-color);\n",
              "    box-shadow: 0 1px 2px rgba(60, 64, 67, 0.3), 0 1px 3px 1px rgba(60, 64, 67, 0.15);\n",
              "    fill: var(--button-hover-fill-color);\n",
              "  }\n",
              "\n",
              "  .colab-df-quickchart-complete:disabled,\n",
              "  .colab-df-quickchart-complete:disabled:hover {\n",
              "    background-color: var(--disabled-bg-color);\n",
              "    fill: var(--disabled-fill-color);\n",
              "    box-shadow: none;\n",
              "  }\n",
              "\n",
              "  .colab-df-spinner {\n",
              "    border: 2px solid var(--fill-color);\n",
              "    border-color: transparent;\n",
              "    border-bottom-color: var(--fill-color);\n",
              "    animation:\n",
              "      spin 1s steps(1) infinite;\n",
              "  }\n",
              "\n",
              "  @keyframes spin {\n",
              "    0% {\n",
              "      border-color: transparent;\n",
              "      border-bottom-color: var(--fill-color);\n",
              "      border-left-color: var(--fill-color);\n",
              "    }\n",
              "    20% {\n",
              "      border-color: transparent;\n",
              "      border-left-color: var(--fill-color);\n",
              "      border-top-color: var(--fill-color);\n",
              "    }\n",
              "    30% {\n",
              "      border-color: transparent;\n",
              "      border-left-color: var(--fill-color);\n",
              "      border-top-color: var(--fill-color);\n",
              "      border-right-color: var(--fill-color);\n",
              "    }\n",
              "    40% {\n",
              "      border-color: transparent;\n",
              "      border-right-color: var(--fill-color);\n",
              "      border-top-color: var(--fill-color);\n",
              "    }\n",
              "    60% {\n",
              "      border-color: transparent;\n",
              "      border-right-color: var(--fill-color);\n",
              "    }\n",
              "    80% {\n",
              "      border-color: transparent;\n",
              "      border-right-color: var(--fill-color);\n",
              "      border-bottom-color: var(--fill-color);\n",
              "    }\n",
              "    90% {\n",
              "      border-color: transparent;\n",
              "      border-bottom-color: var(--fill-color);\n",
              "    }\n",
              "  }\n",
              "</style>\n",
              "\n",
              "  <script>\n",
              "    async function quickchart(key) {\n",
              "      const quickchartButtonEl =\n",
              "        document.querySelector('#' + key + ' button');\n",
              "      quickchartButtonEl.disabled = true;  // To prevent multiple clicks.\n",
              "      quickchartButtonEl.classList.add('colab-df-spinner');\n",
              "      try {\n",
              "        const charts = await google.colab.kernel.invokeFunction(\n",
              "            'suggestCharts', [key], {});\n",
              "      } catch (error) {\n",
              "        console.error('Error during call to suggestCharts:', error);\n",
              "      }\n",
              "      quickchartButtonEl.classList.remove('colab-df-spinner');\n",
              "      quickchartButtonEl.classList.add('colab-df-quickchart-complete');\n",
              "    }\n",
              "    (() => {\n",
              "      let quickchartButtonEl =\n",
              "        document.querySelector('#df-a1f17f7c-e02e-4c3b-9f76-c5ace4811d50 button');\n",
              "      quickchartButtonEl.style.display =\n",
              "        google.colab.kernel.accessAllowed ? 'block' : 'none';\n",
              "    })();\n",
              "  </script>\n",
              "</div>\n",
              "    </div>\n",
              "  </div>\n"
            ]
          },
          "metadata": {},
          "execution_count": 6
        }
      ],
      "source": [
        "df.head()"
      ]
    },
    {
      "cell_type": "code",
      "execution_count": 7,
      "metadata": {
        "colab": {
          "base_uri": "https://localhost:8080/"
        },
        "id": "WRvyWCA8WeY_",
        "outputId": "310e303d-6611-4429-8309-6c937c00ded7"
      },
      "outputs": [
        {
          "output_type": "execute_result",
          "data": {
            "text/plain": [
              "6    12905\n",
              "3     9355\n",
              "5     4462\n",
              "4     4370\n",
              "0     3110\n",
              "2      819\n",
              "1      248\n",
              "7      216\n",
              "Name: emotion, dtype: int64"
            ]
          },
          "metadata": {},
          "execution_count": 7
        }
      ],
      "source": [
        "df['emotion'].value_counts()"
      ]
    },
    {
      "cell_type": "code",
      "execution_count": 8,
      "metadata": {
        "id": "-DzXtCVSWqQx"
      },
      "outputs": [],
      "source": [
        "#df.to_csv('fer2013plusnew_3class.csv', index=False)"
      ]
    },
    {
      "cell_type": "code",
      "execution_count": 5,
      "metadata": {
        "id": "-BvIfnEFTvyX"
      },
      "outputs": [],
      "source": [
        "label_to_text = {0:'anger', 1:'disgust', 2:'fear', 3:'happiness', 4: 'sadness', 5: 'surprise', 6: 'neutral', 7: 'contempt'}  #original\n",
        "#label_to_text = {0:'positive', 1:'neutral', 2:'negative'}  #edit"
      ]
    },
    {
      "cell_type": "code",
      "execution_count": 6,
      "metadata": {
        "id": "SwgQ2mbVTvyY"
      },
      "outputs": [],
      "source": [
        "img_array = df['pixels'].apply(lambda x: np.array(x.split(\" \")).reshape(48,48,1).astype('float32'))\n",
        "img_array = np.stack(img_array, axis=0)\n",
        "labels = df.emotion.values"
      ]
    },
    {
      "cell_type": "code",
      "execution_count": 7,
      "metadata": {
        "colab": {
          "base_uri": "https://localhost:8080/"
        },
        "id": "WMW8gmKgTvyY",
        "outputId": "29fa5e7e-7f49-4d51-ce05-9e511d08138d"
      },
      "outputs": [
        {
          "output_type": "execute_result",
          "data": {
            "text/plain": [
              "(35485, 48, 48, 1)"
            ]
          },
          "metadata": {},
          "execution_count": 7
        }
      ],
      "source": [
        "img_array.shape"
      ]
    },
    {
      "cell_type": "code",
      "execution_count": 8,
      "metadata": {
        "id": "oYW93jJpTvyZ"
      },
      "outputs": [],
      "source": [
        "X_train, X_test, y_train, y_test = train_test_split(img_array, labels, test_size= .2, random_state=42, stratify=labels)\n",
        "#X_train, X_temp, y_train, y_temp = train_test_split(img_array, labels, test_size=0.4, random_state=42, stratify=labels)\n",
        "#X_val, X_test, y_val, y_test = train_test_split(X_temp, y_temp, test_size=0.5, random_state=42, stratify=y_temp)\n"
      ]
    },
    {
      "cell_type": "code",
      "execution_count": 9,
      "metadata": {
        "colab": {
          "base_uri": "https://localhost:8080/"
        },
        "id": "rNpjiPATTvyZ",
        "outputId": "51a32d99-bb8f-43a7-8896-7ad919bd902e"
      },
      "outputs": [
        {
          "output_type": "execute_result",
          "data": {
            "text/plain": [
              "((28388, 48, 48, 1), (28388,), (7097, 48, 48, 1), (7097,))"
            ]
          },
          "metadata": {},
          "execution_count": 9
        }
      ],
      "source": [
        "#X_train.shape, y_train.shape, X_val.shape, y_val.shape, X_test.shape, y_test.shape\n",
        "X_train.shape, y_train.shape, X_test.shape, y_test.shape"
      ]
    },
    {
      "cell_type": "code",
      "execution_count": 10,
      "metadata": {
        "id": "Z29Qd-J_Tvya"
      },
      "outputs": [],
      "source": [
        "X_train = X_train/255\n",
        "#X_val = X_test/255\n",
        "X_test = X_test/255"
      ]
    },
    {
      "cell_type": "code",
      "execution_count": 11,
      "metadata": {
        "id": "j6w-XsS_Tvyb",
        "colab": {
          "base_uri": "https://localhost:8080/",
          "height": 127
        },
        "outputId": "de3463cf-06a0-4800-cc69-4801fbacb334"
      },
      "outputs": [
        {
          "output_type": "execute_result",
          "data": {
            "text/plain": [
              "\"\\n# Define the ImageDataGenerator for data augmentation for training data\\ntrain_datagen = tf.keras.preprocessing.image.ImageDataGenerator(\\n    rotation_range=20,\\n    width_shift_range=0.2,\\n    height_shift_range=0.2,\\n    horizontal_flip=True,\\n    zoom_range=0.2,\\n    shear_range=0.2,\\n    fill_mode='nearest'\\n)\\n\\n# Create a generator for training data\\ntrain_generator = train_datagen.flow(X_train, y_train, \\n                                     batch_size=batch_size)\\n\\n# Define a separate ImageDataGenerator for val and test data (no data augmentation)\\ndatagen = tf.keras.preprocessing.image.ImageDataGenerator()\\nval_generator = datagen.flow(X_val, y_val, \\n                                    batch_size=batch_size)\\ntest_generator = datagen.flow(X_test, y_test, \\n                              batch_size=batch_size)\\n                              \\n\""
            ],
            "application/vnd.google.colaboratory.intrinsic+json": {
              "type": "string"
            }
          },
          "metadata": {},
          "execution_count": 11
        }
      ],
      "source": [
        "batch_size = 16\n",
        "\"\"\"\n",
        "# Define the ImageDataGenerator for data augmentation for training data\n",
        "train_datagen = tf.keras.preprocessing.image.ImageDataGenerator(\n",
        "    rotation_range=20,\n",
        "    width_shift_range=0.2,\n",
        "    height_shift_range=0.2,\n",
        "    horizontal_flip=True,\n",
        "    zoom_range=0.2,\n",
        "    shear_range=0.2,\n",
        "    fill_mode='nearest'\n",
        ")\n",
        "\n",
        "# Create a generator for training data\n",
        "train_generator = train_datagen.flow(X_train, y_train,\n",
        "                                     batch_size=batch_size)\n",
        "\n",
        "# Define a separate ImageDataGenerator for val and test data (no data augmentation)\n",
        "datagen = tf.keras.preprocessing.image.ImageDataGenerator()\n",
        "val_generator = datagen.flow(X_val, y_val,\n",
        "                                    batch_size=batch_size)\n",
        "test_generator = datagen.flow(X_test, y_test,\n",
        "                              batch_size=batch_size)\n",
        "\n",
        "\"\"\""
      ]
    },
    {
      "cell_type": "code",
      "execution_count": 12,
      "metadata": {
        "id": "-VFosBnlTvyb",
        "colab": {
          "base_uri": "https://localhost:8080/",
          "height": 145
        },
        "outputId": "7935cb03-be97-4b61-e9e7-132010400e7d"
      },
      "outputs": [
        {
          "output_type": "execute_result",
          "data": {
            "text/plain": [
              "\"\\nnum_classes = 8\\n\\nbasemodel = tf.keras.models.Sequential([\\n    tf.keras.layers.Conv2D(64, (3, 3), input_shape=(48, 48, 1), kernel_initializer='he_uniform'),\\n    tf.keras.layers.BatchNormalization(),\\n    tf.keras.layers.Activation('relu'),\\n    tf.keras.layers.MaxPool2D(2, 2),\\n    \\n    tf.keras.layers.Conv2D(128, (3, 3), kernel_initializer='he_uniform'),\\n    tf.keras.layers.BatchNormalization(),\\n    tf.keras.layers.Activation('relu'),\\n    tf.keras.layers.MaxPool2D(2, 2),\\n    \\n    tf.keras.layers.Conv2D(256, (3, 3), kernel_initializer='he_uniform'),\\n    tf.keras.layers.BatchNormalization(),\\n    tf.keras.layers.Activation('relu'),\\n    tf.keras.layers.MaxPool2D(2, 2),\\n    \\n    tf.keras.layers.Flatten(),\\n    \\n    tf.keras.layers.Dense(256, kernel_initializer='he_uniform'),\\n    tf.keras.layers.BatchNormalization(),\\n    tf.keras.layers.Activation('relu'),\\n    tf.keras.layers.Dropout(0.5),\\n    \\n    tf.keras.layers.Dense(128, kernel_initializer='he_uniform'),\\n    tf.keras.layers.BatchNormalization(),\\n    tf.keras.layers.Activation('relu'),\\n    tf.keras.layers.Dropout(0.5),\\n    \\n    tf.keras.layers.Dense(num_classes, activation='softmax')\\n])\\n\""
            ],
            "application/vnd.google.colaboratory.intrinsic+json": {
              "type": "string"
            }
          },
          "metadata": {},
          "execution_count": 12
        }
      ],
      "source": [
        "\"\"\"\n",
        "num_classes = 8\n",
        "\n",
        "basemodel = tf.keras.models.Sequential([\n",
        "    tf.keras.layers.Conv2D(64, (3, 3), input_shape=(48, 48, 1), kernel_initializer='he_uniform'),\n",
        "    tf.keras.layers.BatchNormalization(),\n",
        "    tf.keras.layers.Activation('relu'),\n",
        "    tf.keras.layers.MaxPool2D(2, 2),\n",
        "\n",
        "    tf.keras.layers.Conv2D(128, (3, 3), kernel_initializer='he_uniform'),\n",
        "    tf.keras.layers.BatchNormalization(),\n",
        "    tf.keras.layers.Activation('relu'),\n",
        "    tf.keras.layers.MaxPool2D(2, 2),\n",
        "\n",
        "    tf.keras.layers.Conv2D(256, (3, 3), kernel_initializer='he_uniform'),\n",
        "    tf.keras.layers.BatchNormalization(),\n",
        "    tf.keras.layers.Activation('relu'),\n",
        "    tf.keras.layers.MaxPool2D(2, 2),\n",
        "\n",
        "    tf.keras.layers.Flatten(),\n",
        "\n",
        "    tf.keras.layers.Dense(256, kernel_initializer='he_uniform'),\n",
        "    tf.keras.layers.BatchNormalization(),\n",
        "    tf.keras.layers.Activation('relu'),\n",
        "    tf.keras.layers.Dropout(0.5),\n",
        "\n",
        "    tf.keras.layers.Dense(128, kernel_initializer='he_uniform'),\n",
        "    tf.keras.layers.BatchNormalization(),\n",
        "    tf.keras.layers.Activation('relu'),\n",
        "    tf.keras.layers.Dropout(0.5),\n",
        "\n",
        "    tf.keras.layers.Dense(num_classes, activation='softmax')\n",
        "])\n",
        "\"\"\""
      ]
    },
    {
      "cell_type": "code",
      "source": [
        "import tensorflow as tf\n",
        "from tensorflow.keras.models import Sequential\n",
        "from tensorflow.keras.layers import Conv2D, MaxPooling2D, AveragePooling2D\n",
        "from tensorflow.keras.layers import Flatten, Dense, Dropout\n",
        "\n",
        "num_classes = 8\n",
        "\n",
        "basemodel = Sequential()\n",
        "\n",
        "# 1st convolution layer\n",
        "basemodel.add(Conv2D(64, (5, 5), activation=\"relu\", input_shape=(48, 48, 1)))\n",
        "basemodel.add(MaxPooling2D(pool_size=(5, 5), strides=(2, 2)))\n",
        "\n",
        "# 2nd convolution layer\n",
        "basemodel.add(Conv2D(64, (3, 3), activation=\"relu\"))\n",
        "basemodel.add(Conv2D(64, (3, 3), activation=\"relu\"))\n",
        "basemodel.add(AveragePooling2D(pool_size=(3, 3), strides=(2, 2)))\n",
        "\n",
        "# 3rd convolution layer\n",
        "basemodel.add(Conv2D(128, (3, 3), activation=\"relu\"))\n",
        "basemodel.add(Conv2D(128, (3, 3), activation=\"relu\"))\n",
        "basemodel.add(AveragePooling2D(pool_size=(3, 3), strides=(2, 2)))\n",
        "\n",
        "basemodel.add(Flatten())\n",
        "\n",
        "# fully connected neural networks\n",
        "basemodel.add(Dense(1024, activation=\"relu\"))\n",
        "basemodel.add(Dropout(0.2))\n",
        "basemodel.add(Dense(1024, activation=\"relu\"))\n",
        "basemodel.add(Dropout(0.2))\n",
        "\n",
        "basemodel.add(Dense(num_classes, activation=\"softmax\"))"
      ],
      "metadata": {
        "id": "OEYxBuwKrzof"
      },
      "execution_count": 14,
      "outputs": []
    },
    {
      "cell_type": "code",
      "execution_count": 15,
      "metadata": {
        "colab": {
          "base_uri": "https://localhost:8080/"
        },
        "id": "c5VkVVEDTvyc",
        "outputId": "bc877000-5911-4158-e244-128f2b5a05d0"
      },
      "outputs": [
        {
          "output_type": "stream",
          "name": "stdout",
          "text": [
            "Model: \"sequential\"\n",
            "_________________________________________________________________\n",
            " Layer (type)                Output Shape              Param #   \n",
            "=================================================================\n",
            " conv2d (Conv2D)             (None, 44, 44, 64)        1664      \n",
            "                                                                 \n",
            " max_pooling2d (MaxPooling2  (None, 20, 20, 64)        0         \n",
            " D)                                                              \n",
            "                                                                 \n",
            " conv2d_1 (Conv2D)           (None, 18, 18, 64)        36928     \n",
            "                                                                 \n",
            " conv2d_2 (Conv2D)           (None, 16, 16, 64)        36928     \n",
            "                                                                 \n",
            " average_pooling2d (Average  (None, 7, 7, 64)          0         \n",
            " Pooling2D)                                                      \n",
            "                                                                 \n",
            " conv2d_3 (Conv2D)           (None, 5, 5, 128)         73856     \n",
            "                                                                 \n",
            " conv2d_4 (Conv2D)           (None, 3, 3, 128)         147584    \n",
            "                                                                 \n",
            " average_pooling2d_1 (Avera  (None, 1, 1, 128)         0         \n",
            " gePooling2D)                                                    \n",
            "                                                                 \n",
            " flatten (Flatten)           (None, 128)               0         \n",
            "                                                                 \n",
            " dense (Dense)               (None, 1024)              132096    \n",
            "                                                                 \n",
            " dropout (Dropout)           (None, 1024)              0         \n",
            "                                                                 \n",
            " dense_1 (Dense)             (None, 1024)              1049600   \n",
            "                                                                 \n",
            " dropout_1 (Dropout)         (None, 1024)              0         \n",
            "                                                                 \n",
            " dense_2 (Dense)             (None, 8)                 8200      \n",
            "                                                                 \n",
            "=================================================================\n",
            "Total params: 1486856 (5.67 MB)\n",
            "Trainable params: 1486856 (5.67 MB)\n",
            "Non-trainable params: 0 (0.00 Byte)\n",
            "_________________________________________________________________\n"
          ]
        }
      ],
      "source": [
        "basemodel.summary()"
      ]
    },
    {
      "cell_type": "code",
      "execution_count": 16,
      "metadata": {
        "id": "kbVuJ3S_Tvyc"
      },
      "outputs": [],
      "source": [
        "initial_learning_rate = 0.0001  # You can adjust this value\n",
        "#optimizer = tf.keras.optimizers.RMSprop(learning_rate=initial_learning_rate)\n",
        "optimizer=tf.keras.optimizers.Adam(learning_rate=initial_learning_rate)\n",
        "basemodel.compile(optimizer=optimizer,\n",
        "                loss='sparse_categorical_crossentropy',\n",
        "                metrics=['accuracy'])"
      ]
    },
    {
      "cell_type": "code",
      "execution_count": 17,
      "metadata": {
        "id": "ydWj3uHeTvyc"
      },
      "outputs": [],
      "source": [
        "def lr_schedule(epoch):\n",
        "    if epoch < 10:\n",
        "        return initial_learning_rate\n",
        "    else:\n",
        "        return initial_learning_rate * 0.1"
      ]
    },
    {
      "cell_type": "code",
      "execution_count": 18,
      "metadata": {
        "id": "u_VE_NVBTvyd"
      },
      "outputs": [],
      "source": [
        "# Define early stopping\n",
        "early_stopping = tf.keras.callbacks.EarlyStopping(\n",
        "    monitor='val_accuracy',\n",
        "    patience=20,\n",
        "    restore_best_weights=True\n",
        ")"
      ]
    },
    {
      "cell_type": "code",
      "execution_count": 19,
      "metadata": {
        "id": "9hmcZe2iTvyd"
      },
      "outputs": [],
      "source": [
        "file_name = 'best_model.h5'\n",
        "checkpoint_path= os.path.join('checkpoint',file_name)\n",
        "\n",
        "\n",
        "call_back = [\n",
        "    tf.keras.callbacks.ModelCheckpoint(filepath=checkpoint_path,\n",
        "                                        monitor='val_accuracy',\n",
        "                                        verbose=1,\n",
        "                                        save_freq='epoch',\n",
        "                                        save_best_only=True,\n",
        "                                        save_weights_only=False,\n",
        "                                        mode='max'),\n",
        "    tf.keras.callbacks.EarlyStopping(\n",
        "        monitor='val_loss',\n",
        "        patience=10,\n",
        "        restore_best_weights=True\n",
        "    ),\n",
        "    #tf.keras.callbacks.LearningRateScheduler(lr_schedule)\n",
        "    tf.keras.callbacks.ReduceLROnPlateau(monitor='val_accuracy', patience=10,\n",
        "                                  verbose=1,factor=0.2, min_lr=0.000001)\n",
        "]"
      ]
    },
    {
      "cell_type": "code",
      "execution_count": 20,
      "metadata": {
        "colab": {
          "base_uri": "https://localhost:8080/"
        },
        "id": "939u-CKATvyd",
        "outputId": "d292509f-51f0-48e5-efb6-a8129874f43e"
      },
      "outputs": [
        {
          "output_type": "stream",
          "name": "stdout",
          "text": [
            "Epoch 1/100\n",
            "1420/1420 [==============================] - ETA: 0s - loss: 1.6267 - accuracy: 0.3620\n",
            "Epoch 1: val_accuracy improved from -inf to 0.37619, saving model to checkpoint/best_model.h5\n",
            "1420/1420 [==============================] - 23s 7ms/step - loss: 1.6267 - accuracy: 0.3620 - val_loss: 1.5729 - val_accuracy: 0.3762 - lr: 1.0000e-04\n",
            "Epoch 2/100\n",
            "   8/1420 [..............................] - ETA: 10s - loss: 1.4964 - accuracy: 0.3672"
          ]
        },
        {
          "output_type": "stream",
          "name": "stderr",
          "text": [
            "/usr/local/lib/python3.10/dist-packages/keras/src/engine/training.py:3079: UserWarning: You are saving your model as an HDF5 file via `model.save()`. This file format is considered legacy. We recommend using instead the native Keras format, e.g. `model.save('my_model.keras')`.\n",
            "  saving_api.save_model(\n"
          ]
        },
        {
          "output_type": "stream",
          "name": "stdout",
          "text": [
            "1413/1420 [============================>.] - ETA: 0s - loss: 1.5266 - accuracy: 0.4015\n",
            "Epoch 2: val_accuracy improved from 0.37619 to 0.42867, saving model to checkpoint/best_model.h5\n",
            "1420/1420 [==============================] - 9s 7ms/step - loss: 1.5258 - accuracy: 0.4021 - val_loss: 1.4590 - val_accuracy: 0.4287 - lr: 1.0000e-04\n",
            "Epoch 3/100\n",
            "1419/1420 [============================>.] - ETA: 0s - loss: 1.3894 - accuracy: 0.4829\n",
            "Epoch 3: val_accuracy improved from 0.42867 to 0.53064, saving model to checkpoint/best_model.h5\n",
            "1420/1420 [==============================] - 10s 7ms/step - loss: 1.3895 - accuracy: 0.4828 - val_loss: 1.3102 - val_accuracy: 0.5306 - lr: 1.0000e-04\n",
            "Epoch 4/100\n",
            "1413/1420 [============================>.] - ETA: 0s - loss: 1.2440 - accuracy: 0.5620\n",
            "Epoch 4: val_accuracy improved from 0.53064 to 0.57978, saving model to checkpoint/best_model.h5\n",
            "1420/1420 [==============================] - 10s 7ms/step - loss: 1.2435 - accuracy: 0.5620 - val_loss: 1.2067 - val_accuracy: 0.5798 - lr: 1.0000e-04\n",
            "Epoch 5/100\n",
            "1416/1420 [============================>.] - ETA: 0s - loss: 1.1412 - accuracy: 0.6017\n",
            "Epoch 5: val_accuracy improved from 0.57978 to 0.61994, saving model to checkpoint/best_model.h5\n",
            "1420/1420 [==============================] - 9s 6ms/step - loss: 1.1406 - accuracy: 0.6020 - val_loss: 1.0914 - val_accuracy: 0.6199 - lr: 1.0000e-04\n",
            "Epoch 6/100\n",
            "1417/1420 [============================>.] - ETA: 0s - loss: 1.0691 - accuracy: 0.6255\n",
            "Epoch 6: val_accuracy improved from 0.61994 to 0.63861, saving model to checkpoint/best_model.h5\n",
            "1420/1420 [==============================] - 10s 7ms/step - loss: 1.0686 - accuracy: 0.6257 - val_loss: 1.0461 - val_accuracy: 0.6386 - lr: 1.0000e-04\n",
            "Epoch 7/100\n",
            "1411/1420 [============================>.] - ETA: 0s - loss: 1.0101 - accuracy: 0.6452\n",
            "Epoch 7: val_accuracy improved from 0.63861 to 0.65710, saving model to checkpoint/best_model.h5\n",
            "1420/1420 [==============================] - 10s 7ms/step - loss: 1.0096 - accuracy: 0.6454 - val_loss: 0.9723 - val_accuracy: 0.6571 - lr: 1.0000e-04\n",
            "Epoch 8/100\n",
            "1414/1420 [============================>.] - ETA: 0s - loss: 0.9575 - accuracy: 0.6638\n",
            "Epoch 8: val_accuracy improved from 0.65710 to 0.66943, saving model to checkpoint/best_model.h5\n",
            "1420/1420 [==============================] - 9s 6ms/step - loss: 0.9569 - accuracy: 0.6642 - val_loss: 0.9355 - val_accuracy: 0.6694 - lr: 1.0000e-04\n",
            "Epoch 9/100\n",
            "1411/1420 [============================>.] - ETA: 0s - loss: 0.9129 - accuracy: 0.6785\n",
            "Epoch 9: val_accuracy improved from 0.66943 to 0.67277, saving model to checkpoint/best_model.h5\n",
            "1420/1420 [==============================] - 10s 7ms/step - loss: 0.9131 - accuracy: 0.6785 - val_loss: 0.9313 - val_accuracy: 0.6728 - lr: 1.0000e-04\n",
            "Epoch 10/100\n",
            "1413/1420 [============================>.] - ETA: 0s - loss: 0.8757 - accuracy: 0.6925\n",
            "Epoch 10: val_accuracy improved from 0.67277 to 0.68897, saving model to checkpoint/best_model.h5\n",
            "1420/1420 [==============================] - 10s 7ms/step - loss: 0.8749 - accuracy: 0.6928 - val_loss: 0.8726 - val_accuracy: 0.6890 - lr: 1.0000e-04\n",
            "Epoch 11/100\n",
            "1416/1420 [============================>.] - ETA: 0s - loss: 0.8443 - accuracy: 0.7026\n",
            "Epoch 11: val_accuracy improved from 0.68897 to 0.69179, saving model to checkpoint/best_model.h5\n",
            "1420/1420 [==============================] - 9s 6ms/step - loss: 0.8444 - accuracy: 0.7026 - val_loss: 0.8649 - val_accuracy: 0.6918 - lr: 1.0000e-04\n",
            "Epoch 12/100\n",
            "1420/1420 [==============================] - ETA: 0s - loss: 0.8121 - accuracy: 0.7136\n",
            "Epoch 12: val_accuracy improved from 0.69179 to 0.69620, saving model to checkpoint/best_model.h5\n",
            "1420/1420 [==============================] - 10s 7ms/step - loss: 0.8121 - accuracy: 0.7136 - val_loss: 0.8513 - val_accuracy: 0.6962 - lr: 1.0000e-04\n",
            "Epoch 13/100\n",
            "1416/1420 [============================>.] - ETA: 0s - loss: 0.7851 - accuracy: 0.7226\n",
            "Epoch 13: val_accuracy improved from 0.69620 to 0.70483, saving model to checkpoint/best_model.h5\n",
            "1420/1420 [==============================] - 10s 7ms/step - loss: 0.7847 - accuracy: 0.7229 - val_loss: 0.8309 - val_accuracy: 0.7048 - lr: 1.0000e-04\n",
            "Epoch 14/100\n",
            "1420/1420 [==============================] - ETA: 0s - loss: 0.7581 - accuracy: 0.7310\n",
            "Epoch 14: val_accuracy improved from 0.70483 to 0.71029, saving model to checkpoint/best_model.h5\n",
            "1420/1420 [==============================] - 9s 7ms/step - loss: 0.7581 - accuracy: 0.7310 - val_loss: 0.8234 - val_accuracy: 0.7103 - lr: 1.0000e-04\n",
            "Epoch 15/100\n",
            "1420/1420 [==============================] - ETA: 0s - loss: 0.7345 - accuracy: 0.7399\n",
            "Epoch 15: val_accuracy did not improve from 0.71029\n",
            "1420/1420 [==============================] - 9s 6ms/step - loss: 0.7345 - accuracy: 0.7399 - val_loss: 0.8280 - val_accuracy: 0.7034 - lr: 1.0000e-04\n",
            "Epoch 16/100\n",
            "1413/1420 [============================>.] - ETA: 0s - loss: 0.7083 - accuracy: 0.7468\n",
            "Epoch 16: val_accuracy improved from 0.71029 to 0.71240, saving model to checkpoint/best_model.h5\n",
            "1420/1420 [==============================] - 10s 7ms/step - loss: 0.7075 - accuracy: 0.7471 - val_loss: 0.8210 - val_accuracy: 0.7124 - lr: 1.0000e-04\n",
            "Epoch 17/100\n",
            "1419/1420 [============================>.] - ETA: 0s - loss: 0.6886 - accuracy: 0.7552\n",
            "Epoch 17: val_accuracy improved from 0.71240 to 0.71592, saving model to checkpoint/best_model.h5\n",
            "1420/1420 [==============================] - 10s 7ms/step - loss: 0.6886 - accuracy: 0.7551 - val_loss: 0.7929 - val_accuracy: 0.7159 - lr: 1.0000e-04\n",
            "Epoch 18/100\n",
            "1418/1420 [============================>.] - ETA: 0s - loss: 0.6640 - accuracy: 0.7664\n",
            "Epoch 18: val_accuracy improved from 0.71592 to 0.72173, saving model to checkpoint/best_model.h5\n",
            "1420/1420 [==============================] - 9s 6ms/step - loss: 0.6638 - accuracy: 0.7664 - val_loss: 0.7933 - val_accuracy: 0.7217 - lr: 1.0000e-04\n",
            "Epoch 19/100\n",
            "1411/1420 [============================>.] - ETA: 0s - loss: 0.6317 - accuracy: 0.7738\n",
            "Epoch 19: val_accuracy improved from 0.72173 to 0.72543, saving model to checkpoint/best_model.h5\n",
            "1420/1420 [==============================] - 10s 7ms/step - loss: 0.6317 - accuracy: 0.7738 - val_loss: 0.7949 - val_accuracy: 0.7254 - lr: 1.0000e-04\n",
            "Epoch 20/100\n",
            "1416/1420 [============================>.] - ETA: 0s - loss: 0.6100 - accuracy: 0.7822\n",
            "Epoch 20: val_accuracy improved from 0.72543 to 0.72754, saving model to checkpoint/best_model.h5\n",
            "1420/1420 [==============================] - 10s 7ms/step - loss: 0.6099 - accuracy: 0.7823 - val_loss: 0.7811 - val_accuracy: 0.7275 - lr: 1.0000e-04\n",
            "Epoch 21/100\n",
            "1415/1420 [============================>.] - ETA: 0s - loss: 0.5881 - accuracy: 0.7929\n",
            "Epoch 21: val_accuracy did not improve from 0.72754\n",
            "1420/1420 [==============================] - 9s 6ms/step - loss: 0.5880 - accuracy: 0.7930 - val_loss: 0.7945 - val_accuracy: 0.7180 - lr: 1.0000e-04\n",
            "Epoch 22/100\n",
            "1416/1420 [============================>.] - ETA: 0s - loss: 0.5624 - accuracy: 0.8008\n",
            "Epoch 22: val_accuracy improved from 0.72754 to 0.73001, saving model to checkpoint/best_model.h5\n",
            "1420/1420 [==============================] - 10s 7ms/step - loss: 0.5619 - accuracy: 0.8009 - val_loss: 0.7724 - val_accuracy: 0.7300 - lr: 1.0000e-04\n",
            "Epoch 23/100\n",
            "1414/1420 [============================>.] - ETA: 0s - loss: 0.5373 - accuracy: 0.8096\n",
            "Epoch 23: val_accuracy improved from 0.73001 to 0.73635, saving model to checkpoint/best_model.h5\n",
            "1420/1420 [==============================] - 10s 7ms/step - loss: 0.5370 - accuracy: 0.8096 - val_loss: 0.8068 - val_accuracy: 0.7364 - lr: 1.0000e-04\n",
            "Epoch 24/100\n",
            "1416/1420 [============================>.] - ETA: 0s - loss: 0.5156 - accuracy: 0.8148\n",
            "Epoch 24: val_accuracy did not improve from 0.73635\n",
            "1420/1420 [==============================] - 9s 7ms/step - loss: 0.5153 - accuracy: 0.8149 - val_loss: 0.7876 - val_accuracy: 0.7334 - lr: 1.0000e-04\n",
            "Epoch 25/100\n",
            "1420/1420 [==============================] - ETA: 0s - loss: 0.4934 - accuracy: 0.8255\n",
            "Epoch 25: val_accuracy did not improve from 0.73635\n",
            "1420/1420 [==============================] - 9s 7ms/step - loss: 0.4934 - accuracy: 0.8255 - val_loss: 0.8263 - val_accuracy: 0.7282 - lr: 1.0000e-04\n",
            "Epoch 26/100\n",
            "1413/1420 [============================>.] - ETA: 0s - loss: 0.4601 - accuracy: 0.8361\n",
            "Epoch 26: val_accuracy improved from 0.73635 to 0.73917, saving model to checkpoint/best_model.h5\n",
            "1420/1420 [==============================] - 10s 7ms/step - loss: 0.4603 - accuracy: 0.8360 - val_loss: 0.8006 - val_accuracy: 0.7392 - lr: 1.0000e-04\n",
            "Epoch 27/100\n",
            "1416/1420 [============================>.] - ETA: 0s - loss: 0.4421 - accuracy: 0.8430\n",
            "Epoch 27: val_accuracy did not improve from 0.73917\n",
            "1420/1420 [==============================] - 11s 8ms/step - loss: 0.4423 - accuracy: 0.8429 - val_loss: 0.8401 - val_accuracy: 0.7207 - lr: 1.0000e-04\n",
            "Epoch 28/100\n",
            "1416/1420 [============================>.] - ETA: 0s - loss: 0.4143 - accuracy: 0.8532\n",
            "Epoch 28: val_accuracy did not improve from 0.73917\n",
            "1420/1420 [==============================] - 9s 7ms/step - loss: 0.4142 - accuracy: 0.8531 - val_loss: 0.8567 - val_accuracy: 0.7249 - lr: 1.0000e-04\n",
            "Epoch 29/100\n",
            "1419/1420 [============================>.] - ETA: 0s - loss: 0.3972 - accuracy: 0.8598\n",
            "Epoch 29: val_accuracy did not improve from 0.73917\n",
            "1420/1420 [==============================] - 11s 7ms/step - loss: 0.3972 - accuracy: 0.8599 - val_loss: 0.8916 - val_accuracy: 0.7346 - lr: 1.0000e-04\n",
            "Epoch 30/100\n",
            "1418/1420 [============================>.] - ETA: 0s - loss: 0.3667 - accuracy: 0.8689\n",
            "Epoch 30: val_accuracy did not improve from 0.73917\n",
            "1420/1420 [==============================] - 11s 8ms/step - loss: 0.3668 - accuracy: 0.8689 - val_loss: 0.8879 - val_accuracy: 0.7323 - lr: 1.0000e-04\n",
            "Epoch 31/100\n",
            "1420/1420 [==============================] - ETA: 0s - loss: 0.3496 - accuracy: 0.8767\n",
            "Epoch 31: val_accuracy improved from 0.73917 to 0.74692, saving model to checkpoint/best_model.h5\n",
            "1420/1420 [==============================] - 10s 7ms/step - loss: 0.3496 - accuracy: 0.8767 - val_loss: 0.8973 - val_accuracy: 0.7469 - lr: 1.0000e-04\n",
            "Epoch 32/100\n",
            "1413/1420 [============================>.] - ETA: 0s - loss: 0.3290 - accuracy: 0.8824\n",
            "Epoch 32: val_accuracy did not improve from 0.74692\n",
            "1420/1420 [==============================] - 9s 6ms/step - loss: 0.3288 - accuracy: 0.8826 - val_loss: 0.9206 - val_accuracy: 0.7386 - lr: 1.0000e-04\n"
          ]
        }
      ],
      "source": [
        "#history = basemodel.fit(train_generator,\n",
        "#                        epochs=100,\n",
        "#                        validation_data=val_generator,\n",
        "#                        callbacks=call_back)\n",
        "\n",
        "history = basemodel.fit(X_train, y_train,\n",
        "                        epochs=100,\n",
        "                        batch_size=batch_size,\n",
        "                        validation_split=.2,\n",
        "                        callbacks=call_back)"
      ]
    },
    {
      "cell_type": "code",
      "execution_count": 21,
      "metadata": {
        "colab": {
          "base_uri": "https://localhost:8080/",
          "height": 448
        },
        "id": "A0Q5NREdTvyd",
        "outputId": "2e13478c-95ac-453c-b9df-ed199895071f"
      },
      "outputs": [
        {
          "output_type": "execute_result",
          "data": {
            "text/plain": [
              "<matplotlib.legend.Legend at 0x7f00ac04a3b0>"
            ]
          },
          "metadata": {},
          "execution_count": 21
        },
        {
          "output_type": "display_data",
          "data": {
            "text/plain": [
              "<Figure size 640x480 with 1 Axes>"
            ],
            "image/png": "[encoded data removed]"
          },
          "metadata": {}
        }
      ],
      "source": [
        "# Plot loss per iteration\n",
        "import matplotlib.pyplot as plt\n",
        "plt.plot(history.history['loss'], label='loss')\n",
        "plt.plot(history.history['val_loss'], label='val_loss')\n",
        "plt.legend()"
      ]
    },
    {
      "cell_type": "code",
      "execution_count": 22,
      "metadata": {
        "colab": {
          "base_uri": "https://localhost:8080/",
          "height": 448
        },
        "id": "YBHwmcxlTvye",
        "outputId": "014b9560-e508-44fb-a37a-34de17757104"
      },
      "outputs": [
        {
          "output_type": "execute_result",
          "data": {
            "text/plain": [
              "<matplotlib.legend.Legend at 0x7f00a02a6110>"
            ]
          },
          "metadata": {},
          "execution_count": 22
        },
        {
          "output_type": "display_data",
          "data": {
            "text/plain": [
              "<Figure size 640x480 with 1 Axes>"
            ],
            "image/png": "[encoded data removed]"
          },
          "metadata": {}
        }
      ],
      "source": [
        "# Plot accuracy per iteration\n",
        "plt.plot(history.history['accuracy'], label='acc')\n",
        "plt.plot(history.history['val_accuracy'], label='val_acc')\n",
        "plt.legend()"
      ]
    },
    {
      "cell_type": "code",
      "execution_count": 23,
      "metadata": {
        "colab": {
          "base_uri": "https://localhost:8080/",
          "height": 1000
        },
        "id": "HITqeIZlTvye",
        "outputId": "cbbd282f-63a6-4d06-f979-3cb84bff13b9"
      },
      "outputs": [
        {
          "output_type": "stream",
          "name": "stdout",
          "text": [
            "222/222 [==============================] - 1s 3ms/step\n"
          ]
        },
        {
          "output_type": "stream",
          "name": "stderr",
          "text": [
            "/usr/local/lib/python3.10/dist-packages/sklearn/metrics/_classification.py:1344: UndefinedMetricWarning: Precision and F-score are ill-defined and being set to 0.0 in labels with no predicted samples. Use `zero_division` parameter to control this behavior.\n",
            "  _warn_prf(average, modifier, msg_start, len(result))\n",
            "/usr/local/lib/python3.10/dist-packages/sklearn/metrics/_classification.py:1344: UndefinedMetricWarning: Precision and F-score are ill-defined and being set to 0.0 in labels with no predicted samples. Use `zero_division` parameter to control this behavior.\n",
            "  _warn_prf(average, modifier, msg_start, len(result))\n",
            "/usr/local/lib/python3.10/dist-packages/sklearn/metrics/_classification.py:1344: UndefinedMetricWarning: Precision and F-score are ill-defined and being set to 0.0 in labels with no predicted samples. Use `zero_division` parameter to control this behavior.\n",
            "  _warn_prf(average, modifier, msg_start, len(result))\n"
          ]
        },
        {
          "output_type": "stream",
          "name": "stdout",
          "text": [
            "              precision    recall  f1-score   support\n",
            "\n",
            "       anger     0.6427    0.6190    0.6306       622\n",
            "     disgust     0.3333    0.0200    0.0377        50\n",
            "        fear     0.6596    0.1890    0.2938       164\n",
            "   happiness     0.8268    0.8471    0.8369      1871\n",
            "     sadness     0.5632    0.4027    0.4696       874\n",
            "    surprise     0.7144    0.8217    0.7643       892\n",
            "     neutral     0.7385    0.8241    0.7790      2581\n",
            "    contempt     0.0000    0.0000    0.0000        43\n",
            "\n",
            "    accuracy                         0.7347      7097\n",
            "   macro avg     0.5598    0.4655    0.4765      7097\n",
            "weighted avg     0.7196    0.7347    0.7201      7097\n",
            "\n",
            "Confusion matrix, without normalization\n",
            "[[ 385    1    0   44   28   35  129    0]\n",
            " [  16    1    0    4   13    1   15    0]\n",
            " [   7    0   31   17    5   83   21    0]\n",
            " [  48    0    3 1585   44   52  139    0]\n",
            " [  59    0    7   86  352   35  335    0]\n",
            " [  31    0    4   37    9  733   78    0]\n",
            " [  53    0    2  144  171   84 2127    0]\n",
            " [   0    1    0    0    3    3   36    0]]\n"
          ]
        },
        {
          "output_type": "display_data",
          "data": {
            "text/plain": [
              "<Figure size 640x480 with 2 Axes>"
            ],
            "image/png": "[encoded data removed]"
          },
          "metadata": {}
        }
      ],
      "source": [
        "# Plot confusion matrix\n",
        "from sklearn.metrics import confusion_matrix, classification_report\n",
        "import itertools\n",
        "\n",
        "def plot_confusion_matrix(cm, classes,\n",
        "                          normalize=False,\n",
        "                          title='Confusion matrix',\n",
        "                          cmap=plt.cm.Blues):\n",
        "  \"\"\"\n",
        "  This function prints and plots the confusion matrix.\n",
        "  Normalization can be applied by setting `normalize=True`.\n",
        "  \"\"\"\n",
        "  if normalize:\n",
        "      cm = cm.astype('float') / cm.sum(axis=1)[:, np.newaxis]\n",
        "      print(\"Normalized confusion matrix\")\n",
        "  else:\n",
        "      print('Confusion matrix, without normalization')\n",
        "\n",
        "  print(cm)\n",
        "\n",
        "  plt.imshow(cm, interpolation='nearest', cmap=cmap)\n",
        "  plt.title(title)\n",
        "  plt.colorbar()\n",
        "  tick_marks = np.arange(len(classes))\n",
        "  plt.xticks(tick_marks, classes, rotation=45)\n",
        "  plt.yticks(tick_marks, classes)\n",
        "\n",
        "  fmt = '.2f' if normalize else 'd'\n",
        "  thresh = cm.max() / 2.\n",
        "  for i, j in itertools.product(range(cm.shape[0]), range(cm.shape[1])):\n",
        "      plt.text(j, i, format(cm[i, j], fmt),\n",
        "               horizontalalignment=\"center\",\n",
        "               color=\"white\" if cm[i, j] > thresh else \"black\")\n",
        "\n",
        "  plt.tight_layout()\n",
        "  plt.ylabel('True label')\n",
        "  plt.xlabel('Predicted label')\n",
        "  plt.show()\n",
        "\n",
        "#label_to_text = {0:'positive', 1:'neutral', 2:'negative'}\n",
        "label_to_text = {0:'anger', 1:'disgust', 2:'fear', 3:'happiness', 4: 'sadness', 5: 'surprise', 6: 'neutral', 7:'contempt'}  #original\n",
        "\n",
        "\n",
        "p_test = basemodel.predict(X_test).argmax(axis=1)\n",
        "cm = confusion_matrix(y_test, p_test)\n",
        "cr = classification_report(y_test, p_test, target_names=['anger', 'disgust', 'fear', 'happiness', 'sadness', 'surprise', 'neutral', 'contempt'], digits=4)\n",
        "print(cr)\n",
        "plot_confusion_matrix(cm, list(label_to_text.values()))"
      ]
    },
    {
      "cell_type": "code",
      "execution_count": 24,
      "metadata": {
        "colab": {
          "base_uri": "https://localhost:8080/",
          "height": 36
        },
        "id": "UICrS3EXTvye",
        "outputId": "b2813290-1a1a-4e60-9547-7fcd18786fcc"
      },
      "outputs": [
        {
          "output_type": "execute_result",
          "data": {
            "text/plain": [
              "'checkpoint/best_model.h5'"
            ],
            "application/vnd.google.colaboratory.intrinsic+json": {
              "type": "string"
            }
          },
          "metadata": {},
          "execution_count": 24
        }
      ],
      "source": [
        "checkpoint_path"
      ]
    },
    {
      "cell_type": "code",
      "execution_count": 25,
      "metadata": {
        "colab": {
          "base_uri": "https://localhost:8080/",
          "height": 486
        },
        "id": "v2jgIdIxTvyf",
        "outputId": "59c96e8f-8553-48e9-fe25-a3605ed5cb07"
      },
      "outputs": [
        {
          "output_type": "stream",
          "name": "stdout",
          "text": [
            "actual label is sadness\n",
            "1/1 [==============================] - 0s 22ms/step\n",
            "predicted label is sadness\n"
          ]
        },
        {
          "output_type": "display_data",
          "data": {
            "text/plain": [
              "<Figure size 640x480 with 1 Axes>"
            ],
            "image/png": "[encoded data removed]"
          },
          "metadata": {}
        }
      ],
      "source": [
        "final_model = tf.keras.models.load_model(checkpoint_path)\n",
        "from IPython.display import clear_output\n",
        "import time\n",
        "\n",
        "for k in range(40):\n",
        "        print(f'actual label is {label_to_text[y_test[k]]}')\n",
        "        predicted_class = final_model.predict(tf.expand_dims(X_test[k],0)).argmax()\n",
        "        print(f'predicted label is {label_to_text[predicted_class]}')\n",
        "        plt.imshow(X_test[k].reshape((48,48)))\n",
        "        plt.show()\n",
        "        time.sleep(3)\n",
        "        clear_output(wait=True)"
      ]
    },
    {
      "cell_type": "code",
      "execution_count": 27,
      "metadata": {
        "id": "P6vjrJ8xTvyf"
      },
      "outputs": [],
      "source": []
    }
  ],
  "metadata": {
    "accelerator": "GPU",
    "colab": {
      "provenance": []
    },
    "kernelspec": {
      "display_name": "Python 3",
      "name": "python3"
    },
    "language_info": {
      "codemirror_mode": {
        "name": "ipython",
        "version": 3
      },
      "file_extension": ".py",
      "mimetype": "text/x-python",
      "name": "python",
      "nbconvert_exporter": "python",
      "pygments_lexer": "ipython3",
      "version": "3.11.5"
    }
  },
  "nbformat": 4,
  "nbformat_minor": 0
}