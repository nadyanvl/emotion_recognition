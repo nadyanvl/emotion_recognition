{
  "cells": [
    {
      "cell_type": "code",
      "execution_count": 1,
      "metadata": {
        "colab": {
          "base_uri": "https://localhost:8080/"
        },
        "id": "O0bpDHeNT21j",
        "outputId": "847c3b7b-f7b0-49f4-bea7-2907560220d0"
      },
      "outputs": [
        {
          "output_type": "stream",
          "name": "stdout",
          "text": [
            "Mounted at /content/drive\n"
          ]
        }
      ],
      "source": [
        "from google.colab import drive\n",
        "drive.mount('/content/drive')"
      ]
    },
    {
      "cell_type": "code",
      "execution_count": 2,
      "metadata": {
        "id": "dR4TeCIoTvyV"
      },
      "outputs": [],
      "source": [
        "import os\n",
        "import pandas as pd\n",
        "import numpy as np\n",
        "import tensorflow as tf\n",
        "from matplotlib import pyplot as plt\n",
        "from sklearn.model_selection import train_test_split\n",
        "from tensorflow.keras.preprocessing.image import ImageDataGenerator"
      ]
    },
    {
      "cell_type": "code",
      "execution_count": 3,
      "metadata": {
        "colab": {
          "base_uri": "https://localhost:8080/",
          "height": 206
        },
        "id": "EozAAN9KTvyV",
        "outputId": "53790a04-8b92-4f0a-e1ec-774e0483dfa2"
      },
      "outputs": [
        {
          "output_type": "execute_result",
          "data": {
            "text/plain": [
              "   emotion                                             pixels     Usage\n",
              "0        2  30 24 21 23 25 25 49 67 84 103 120 125 130 139...  Training\n",
              "1        2  123 125 124 142 209 226 234 236 231 232 235 22...  Training\n",
              "2        2  236 230 225 226 228 209 199 193 196 211 199 19...  Training\n",
              "3        2  255 82 0 3 0 0 0 0 0 0 3 0 16 17 3 60 29 0 1 2...  Training\n",
              "4        2  206 208 209 212 214 216 216 219 221 222 222 22...  Training"
            ],
            "text/html": [
              "\n",
              "  <div id=\"df-3c7279c8-6b70-4630-8a0b-8b0b5d2b7561\" class=\"colab-df-container\">\n",
              "    <div>\n",
              "<style scoped>\n",
              "    .dataframe tbody tr th:only-of-type {\n",
              "        vertical-align: middle;\n",
              "    }\n",
              "\n",
              "    .dataframe tbody tr th {\n",
              "        vertical-align: top;\n",
              "    }\n",
              "\n",
              "    .dataframe thead th {\n",
              "        text-align: right;\n",
              "    }\n",
              "</style>\n",
              "<table border=\"1\" class=\"dataframe\">\n",
              "  <thead>\n",
              "    <tr style=\"text-align: right;\">\n",
              "      <th></th>\n",
              "      <th>emotion</th>\n",
              "      <th>pixels</th>\n",
              "      <th>Usage</th>\n",
              "    </tr>\n",
              "  </thead>\n",
              "  <tbody>\n",
              "    <tr>\n",
              "      <th>0</th>\n",
              "      <td>2</td>\n",
              "      <td>30 24 21 23 25 25 49 67 84 103 120 125 130 139...</td>\n",
              "      <td>Training</td>\n",
              "    </tr>\n",
              "    <tr>\n",
              "      <th>1</th>\n",
              "      <td>2</td>\n",
              "      <td>123 125 124 142 209 226 234 236 231 232 235 22...</td>\n",
              "      <td>Training</td>\n",
              "    </tr>\n",
              "    <tr>\n",
              "      <th>2</th>\n",
              "      <td>2</td>\n",
              "      <td>236 230 225 226 228 209 199 193 196 211 199 19...</td>\n",
              "      <td>Training</td>\n",
              "    </tr>\n",
              "    <tr>\n",
              "      <th>3</th>\n",
              "      <td>2</td>\n",
              "      <td>255 82 0 3 0 0 0 0 0 0 3 0 16 17 3 60 29 0 1 2...</td>\n",
              "      <td>Training</td>\n",
              "    </tr>\n",
              "    <tr>\n",
              "      <th>4</th>\n",
              "      <td>2</td>\n",
              "      <td>206 208 209 212 214 216 216 219 221 222 222 22...</td>\n",
              "      <td>Training</td>\n",
              "    </tr>\n",
              "  </tbody>\n",
              "</table>\n",
              "</div>\n",
              "    <div class=\"colab-df-buttons\">\n",
              "\n",
              "  <div class=\"colab-df-container\">\n",
              "    <button class=\"colab-df-convert\" onclick=\"convertToInteractive('df-3c7279c8-6b70-4630-8a0b-8b0b5d2b7561')\"\n",
              "            title=\"Convert this dataframe to an interactive table.\"\n",
              "            style=\"display:none;\">\n",
              "\n",
              "  <svg xmlns=\"http://www.w3.org/2000/svg\" height=\"24px\" viewBox=\"0 -960 960 960\">\n",
              "    <path d=\"M120-120v-720h720v720H120Zm60-500h600v-160H180v160Zm220 220h160v-160H400v160Zm0 220h160v-160H400v160ZM180-400h160v-160H180v160Zm440 0h160v-160H620v160ZM180-180h160v-160H180v160Zm440 0h160v-160H620v160Z\"/>\n",
              "  </svg>\n",
              "    </button>\n",
              "\n",
              "  <style>\n",
              "    .colab-df-container {\n",
              "      display:flex;\n",
              "      gap: 12px;\n",
              "    }\n",
              "\n",
              "    .colab-df-convert {\n",
              "      background-color: #E8F0FE;\n",
              "      border: none;\n",
              "      border-radius: 50%;\n",
              "      cursor: pointer;\n",
              "      display: none;\n",
              "      fill: #1967D2;\n",
              "      height: 32px;\n",
              "      padding: 0 0 0 0;\n",
              "      width: 32px;\n",
              "    }\n",
              "\n",
              "    .colab-df-convert:hover {\n",
              "      background-color: #E2EBFA;\n",
              "      box-shadow: 0px 1px 2px rgba(60, 64, 67, 0.3), 0px 1px 3px 1px rgba(60, 64, 67, 0.15);\n",
              "      fill: #174EA6;\n",
              "    }\n",
              "\n",
              "    .colab-df-buttons div {\n",
              "      margin-bottom: 4px;\n",
              "    }\n",
              "\n",
              "    [theme=dark] .colab-df-convert {\n",
              "      background-color: #3B4455;\n",
              "      fill: #D2E3FC;\n",
              "    }\n",
              "\n",
              "    [theme=dark] .colab-df-convert:hover {\n",
              "      background-color: #434B5C;\n",
              "      box-shadow: 0px 1px 3px 1px rgba(0, 0, 0, 0.15);\n",
              "      filter: drop-shadow(0px 1px 2px rgba(0, 0, 0, 0.3));\n",
              "      fill: #FFFFFF;\n",
              "    }\n",
              "  </style>\n",
              "\n",
              "    <script>\n",
              "      const buttonEl =\n",
              "        document.querySelector('#df-3c7279c8-6b70-4630-8a0b-8b0b5d2b7561 button.colab-df-convert');\n",
              "      buttonEl.style.display =\n",
              "        google.colab.kernel.accessAllowed ? 'block' : 'none';\n",
              "\n",
              "      async function convertToInteractive(key) {\n",
              "        const element = document.querySelector('#df-3c7279c8-6b70-4630-8a0b-8b0b5d2b7561');\n",
              "        const dataTable =\n",
              "          await google.colab.kernel.invokeFunction('convertToInteractive',\n",
              "                                                    [key], {});\n",
              "        if (!dataTable) return;\n",
              "\n",
              "        const docLinkHtml = 'Like what you see? Visit the ' +\n",
              "          '<a target=\"_blank\" href=https://colab.research.google.com/notebooks/data_table.ipynb>data table notebook</a>'\n",
              "          + ' to learn more about interactive tables.';\n",
              "        element.innerHTML = '';\n",
              "        dataTable['output_type'] = 'display_data';\n",
              "        await google.colab.output.renderOutput(dataTable, element);\n",
              "        const docLink = document.createElement('div');\n",
              "        docLink.innerHTML = docLinkHtml;\n",
              "        element.appendChild(docLink);\n",
              "      }\n",
              "    </script>\n",
              "  </div>\n",
              "\n",
              "\n",
              "<div id=\"df-769f23a3-9597-4f47-82b6-021a64b63613\">\n",
              "  <button class=\"colab-df-quickchart\" onclick=\"quickchart('df-769f23a3-9597-4f47-82b6-021a64b63613')\"\n",
              "            title=\"Suggest charts.\"\n",
              "            style=\"display:none;\">\n",
              "\n",
              "<svg xmlns=\"http://www.w3.org/2000/svg\" height=\"24px\"viewBox=\"0 0 24 24\"\n",
              "     width=\"24px\">\n",
              "    <g>\n",
              "        <path d=\"M19 3H5c-1.1 0-2 .9-2 2v14c0 1.1.9 2 2 2h14c1.1 0 2-.9 2-2V5c0-1.1-.9-2-2-2zM9 17H7v-7h2v7zm4 0h-2V7h2v10zm4 0h-2v-4h2v4z\"/>\n",
              "    </g>\n",
              "</svg>\n",
              "  </button>\n",
              "\n",
              "<style>\n",
              "  .colab-df-quickchart {\n",
              "      --bg-color: #E8F0FE;\n",
              "      --fill-color: #1967D2;\n",
              "      --hover-bg-color: #E2EBFA;\n",
              "      --hover-fill-color: #174EA6;\n",
              "      --disabled-fill-color: #AAA;\n",
              "      --disabled-bg-color: #DDD;\n",
              "  }\n",
              "\n",
              "  [theme=dark] .colab-df-quickchart {\n",
              "      --bg-color: #3B4455;\n",
              "      --fill-color: #D2E3FC;\n",
              "      --hover-bg-color: #434B5C;\n",
              "      --hover-fill-color: #FFFFFF;\n",
              "      --disabled-bg-color: #3B4455;\n",
              "      --disabled-fill-color: #666;\n",
              "  }\n",
              "\n",
              "  .colab-df-quickchart {\n",
              "    background-color: var(--bg-color);\n",
              "    border: none;\n",
              "    border-radius: 50%;\n",
              "    cursor: pointer;\n",
              "    display: none;\n",
              "    fill: var(--fill-color);\n",
              "    height: 32px;\n",
              "    padding: 0;\n",
              "    width: 32px;\n",
              "  }\n",
              "\n",
              "  .colab-df-quickchart:hover {\n",
              "    background-color: var(--hover-bg-color);\n",
              "    box-shadow: 0 1px 2px rgba(60, 64, 67, 0.3), 0 1px 3px 1px rgba(60, 64, 67, 0.15);\n",
              "    fill: var(--button-hover-fill-color);\n",
              "  }\n",
              "\n",
              "  .colab-df-quickchart-complete:disabled,\n",
              "  .colab-df-quickchart-complete:disabled:hover {\n",
              "    background-color: var(--disabled-bg-color);\n",
              "    fill: var(--disabled-fill-color);\n",
              "    box-shadow: none;\n",
              "  }\n",
              "\n",
              "  .colab-df-spinner {\n",
              "    border: 2px solid var(--fill-color);\n",
              "    border-color: transparent;\n",
              "    border-bottom-color: var(--fill-color);\n",
              "    animation:\n",
              "      spin 1s steps(1) infinite;\n",
              "  }\n",
              "\n",
              "  @keyframes spin {\n",
              "    0% {\n",
              "      border-color: transparent;\n",
              "      border-bottom-color: var(--fill-color);\n",
              "      border-left-color: var(--fill-color);\n",
              "    }\n",
              "    20% {\n",
              "      border-color: transparent;\n",
              "      border-left-color: var(--fill-color);\n",
              "      border-top-color: var(--fill-color);\n",
              "    }\n",
              "    30% {\n",
              "      border-color: transparent;\n",
              "      border-left-color: var(--fill-color);\n",
              "      border-top-color: var(--fill-color);\n",
              "      border-right-color: var(--fill-color);\n",
              "    }\n",
              "    40% {\n",
              "      border-color: transparent;\n",
              "      border-right-color: var(--fill-color);\n",
              "      border-top-color: var(--fill-color);\n",
              "    }\n",
              "    60% {\n",
              "      border-color: transparent;\n",
              "      border-right-color: var(--fill-color);\n",
              "    }\n",
              "    80% {\n",
              "      border-color: transparent;\n",
              "      border-right-color: var(--fill-color);\n",
              "      border-bottom-color: var(--fill-color);\n",
              "    }\n",
              "    90% {\n",
              "      border-color: transparent;\n",
              "      border-bottom-color: var(--fill-color);\n",
              "    }\n",
              "  }\n",
              "</style>\n",
              "\n",
              "  <script>\n",
              "    async function quickchart(key) {\n",
              "      const quickchartButtonEl =\n",
              "        document.querySelector('#' + key + ' button');\n",
              "      quickchartButtonEl.disabled = true;  // To prevent multiple clicks.\n",
              "      quickchartButtonEl.classList.add('colab-df-spinner');\n",
              "      try {\n",
              "        const charts = await google.colab.kernel.invokeFunction(\n",
              "            'suggestCharts', [key], {});\n",
              "      } catch (error) {\n",
              "        console.error('Error during call to suggestCharts:', error);\n",
              "      }\n",
              "      quickchartButtonEl.classList.remove('colab-df-spinner');\n",
              "      quickchartButtonEl.classList.add('colab-df-quickchart-complete');\n",
              "    }\n",
              "    (() => {\n",
              "      let quickchartButtonEl =\n",
              "        document.querySelector('#df-769f23a3-9597-4f47-82b6-021a64b63613 button');\n",
              "      quickchartButtonEl.style.display =\n",
              "        google.colab.kernel.accessAllowed ? 'block' : 'none';\n",
              "    })();\n",
              "  </script>\n",
              "</div>\n",
              "    </div>\n",
              "  </div>\n"
            ]
          },
          "metadata": {},
          "execution_count": 3
        }
      ],
      "source": [
        "df = pd.read_csv('/content/drive/MyDrive/face_emotion/Dataset/fer2013plusnew_3class.csv')\n",
        "df.head()"
      ]
    },
    {
      "cell_type": "code",
      "execution_count": 4,
      "metadata": {
        "colab": {
          "base_uri": "https://localhost:8080/"
        },
        "id": "K0fZXl5PUV7j",
        "outputId": "99518d0b-0721-4838-a15c-ae27dc6e94d3"
      },
      "outputs": [
        {
          "output_type": "execute_result",
          "data": {
            "text/plain": [
              "0    13817\n",
              "1    12905\n",
              "2     8763\n",
              "Name: emotion, dtype: int64"
            ]
          },
          "metadata": {},
          "execution_count": 4
        }
      ],
      "source": [
        "df['emotion'].value_counts()"
      ]
    },
    {
      "cell_type": "code",
      "execution_count": 5,
      "metadata": {
        "id": "-BvIfnEFTvyX"
      },
      "outputs": [],
      "source": [
        "label_to_text = {0:'positive', 1:'neutral', 2:'negative'}  #edit"
      ]
    },
    {
      "cell_type": "code",
      "execution_count": 6,
      "metadata": {
        "id": "SwgQ2mbVTvyY"
      },
      "outputs": [],
      "source": [
        "img_array = df['pixels'].apply(lambda x: np.array(x.split(\" \")).reshape(48,48,1).astype('float32'))\n",
        "img_array = np.stack(img_array, axis=0)\n",
        "labels = df.emotion.values"
      ]
    },
    {
      "cell_type": "code",
      "execution_count": 7,
      "metadata": {
        "colab": {
          "base_uri": "https://localhost:8080/"
        },
        "id": "WMW8gmKgTvyY",
        "outputId": "d90debe0-b76b-4055-fc67-0de54e554d0a"
      },
      "outputs": [
        {
          "output_type": "execute_result",
          "data": {
            "text/plain": [
              "(35485, 48, 48, 1)"
            ]
          },
          "metadata": {},
          "execution_count": 7
        }
      ],
      "source": [
        "img_array.shape"
      ]
    },
    {
      "cell_type": "code",
      "execution_count": 8,
      "metadata": {
        "id": "oYW93jJpTvyZ"
      },
      "outputs": [],
      "source": [
        "X_train, X_test, y_train, y_test = train_test_split(img_array, labels, test_size= .2, random_state=42, stratify=labels)\n",
        "#X_train, X_temp, y_train, y_temp = train_test_split(img_array, labels, test_size=0.4, random_state=42, stratify=labels)\n",
        "#X_val, X_test, y_val, y_test = train_test_split(X_temp, y_temp, test_size=0.5, random_state=42, stratify=y_temp)\n"
      ]
    },
    {
      "cell_type": "code",
      "execution_count": 9,
      "metadata": {
        "colab": {
          "base_uri": "https://localhost:8080/"
        },
        "id": "rNpjiPATTvyZ",
        "outputId": "0299ae2e-0a61-4bf9-e813-e090f364fef8"
      },
      "outputs": [
        {
          "output_type": "execute_result",
          "data": {
            "text/plain": [
              "((28388, 48, 48, 1), (28388,), (7097, 48, 48, 1), (7097,))"
            ]
          },
          "metadata": {},
          "execution_count": 9
        }
      ],
      "source": [
        "#X_train.shape, y_train.shape, X_val.shape, y_val.shape, X_test.shape, y_test.shape\n",
        "X_train.shape, y_train.shape, X_test.shape, y_test.shape"
      ]
    },
    {
      "cell_type": "code",
      "execution_count": 10,
      "metadata": {
        "id": "Z29Qd-J_Tvya"
      },
      "outputs": [],
      "source": [
        "X_train = X_train/255\n",
        "#X_val = X_test/255\n",
        "X_test = X_test/255"
      ]
    },
    {
      "cell_type": "code",
      "execution_count": 11,
      "metadata": {
        "id": "-VFosBnlTvyb"
      },
      "outputs": [],
      "source": [
        "batch_size = 32\n",
        "num_classes = 3\n",
        "\n",
        "basemodel = tf.keras.models.Sequential([\n",
        "    tf.keras.layers.Conv2D(64, (3, 3), activation='relu', input_shape=(48, 48, 1)),\n",
        "    tf.keras.layers.MaxPool2D(2, 2),\n",
        "\n",
        "    tf.keras.layers.Conv2D(128, (3, 3), activation='relu'),\n",
        "    tf.keras.layers.MaxPool2D(2, 2),\n",
        "\n",
        "    tf.keras.layers.Conv2D(256, (3, 3), activation='relu'),\n",
        "    tf.keras.layers.MaxPool2D(2, 2),\n",
        "\n",
        "    tf.keras.layers.Flatten(),\n",
        "\n",
        "    tf.keras.layers.Dense(256, activation='relu'),\n",
        "    tf.keras.layers.Dropout(0.5),  # Add dropout for regularization\n",
        "\n",
        "    tf.keras.layers.Dense(128, activation='relu'),\n",
        "    tf.keras.layers.Dropout(0.5),  # Add dropout for regularization\n",
        "\n",
        "    tf.keras.layers.Dense(num_classes, activation='softmax')\n",
        "])\n"
      ]
    },
    {
      "cell_type": "code",
      "source": [
        "\"\"\"\n",
        "import tensorflow as tf\n",
        "from tensorflow.keras.models import Sequential\n",
        "from tensorflow.keras.layers import Conv2D, MaxPooling2D, AveragePooling2D\n",
        "from tensorflow.keras.layers import Flatten, Dense, Dropout\n",
        "\n",
        "num_classes = 3\n",
        "\n",
        "basemodel = Sequential()\n",
        "\n",
        "# 1st convolution layer\n",
        "basemodel.add(Conv2D(64, (5, 5), activation=\"relu\", input_shape=(48, 48, 1)))\n",
        "basemodel.add(MaxPooling2D(pool_size=(5, 5), strides=(2, 2)))\n",
        "\n",
        "# 2nd convolution layer\n",
        "basemodel.add(Conv2D(64, (3, 3), activation=\"relu\"))\n",
        "basemodel.add(Conv2D(64, (3, 3), activation=\"relu\"))\n",
        "basemodel.add(AveragePooling2D(pool_size=(3, 3), strides=(2, 2)))\n",
        "\n",
        "# 3rd convolution layer\n",
        "basemodel.add(Conv2D(128, (3, 3), activation=\"relu\"))\n",
        "basemodel.add(Conv2D(128, (3, 3), activation=\"relu\"))\n",
        "basemodel.add(AveragePooling2D(pool_size=(3, 3), strides=(2, 2)))\n",
        "\n",
        "basemodel.add(Flatten())\n",
        "\n",
        "# fully connected neural networks\n",
        "basemodel.add(Dense(512, activation=\"relu\"))\n",
        "basemodel.add(Dropout(0.5))\n",
        "basemodel.add(Dense(256, activation=\"relu\"))\n",
        "basemodel.add(Dropout(0.5))\n",
        "\n",
        "basemodel.add(Dense(num_classes, activation=\"softmax\"))\n",
        "\"\"\""
      ],
      "metadata": {
        "id": "OEYxBuwKrzof",
        "colab": {
          "base_uri": "https://localhost:8080/",
          "height": 145
        },
        "outputId": "66aa4145-2526-450a-e4c6-eb1eab74ae04"
      },
      "execution_count": 17,
      "outputs": [
        {
          "output_type": "execute_result",
          "data": {
            "text/plain": [
              "'\\nimport tensorflow as tf\\nfrom tensorflow.keras.models import Sequential\\nfrom tensorflow.keras.layers import Conv2D, MaxPooling2D, AveragePooling2D\\nfrom tensorflow.keras.layers import Flatten, Dense, Dropout\\n\\nnum_classes = 3\\n\\nbasemodel = Sequential()\\n\\n# 1st convolution layer\\nbasemodel.add(Conv2D(64, (5, 5), activation=\"relu\", input_shape=(48, 48, 1)))\\nbasemodel.add(MaxPooling2D(pool_size=(5, 5), strides=(2, 2)))\\n\\n# 2nd convolution layer\\nbasemodel.add(Conv2D(64, (3, 3), activation=\"relu\"))\\nbasemodel.add(Conv2D(64, (3, 3), activation=\"relu\"))\\nbasemodel.add(AveragePooling2D(pool_size=(3, 3), strides=(2, 2)))\\n\\n# 3rd convolution layer\\nbasemodel.add(Conv2D(128, (3, 3), activation=\"relu\"))\\nbasemodel.add(Conv2D(128, (3, 3), activation=\"relu\"))\\nbasemodel.add(AveragePooling2D(pool_size=(3, 3), strides=(2, 2)))\\n\\nbasemodel.add(Flatten())\\n\\n# fully connected neural networks\\nbasemodel.add(Dense(512, activation=\"relu\"))\\nbasemodel.add(Dropout(0.5))\\nbasemodel.add(Dense(256, activation=\"relu\"))\\nbasemodel.add(Dropout(0.5))\\n\\nbasemodel.add(Dense(num_classes, activation=\"softmax\"))\\n'"
            ],
            "application/vnd.google.colaboratory.intrinsic+json": {
              "type": "string"
            }
          },
          "metadata": {},
          "execution_count": 17
        }
      ]
    },
    {
      "cell_type": "code",
      "execution_count": 12,
      "metadata": {
        "colab": {
          "base_uri": "https://localhost:8080/"
        },
        "id": "c5VkVVEDTvyc",
        "outputId": "41d717ab-f70f-49bf-d829-3728e0001103"
      },
      "outputs": [
        {
          "output_type": "stream",
          "name": "stdout",
          "text": [
            "Model: \"sequential\"\n",
            "_________________________________________________________________\n",
            " Layer (type)                Output Shape              Param #   \n",
            "=================================================================\n",
            " conv2d (Conv2D)             (None, 46, 46, 64)        640       \n",
            "                                                                 \n",
            " max_pooling2d (MaxPooling2  (None, 23, 23, 64)        0         \n",
            " D)                                                              \n",
            "                                                                 \n",
            " conv2d_1 (Conv2D)           (None, 21, 21, 128)       73856     \n",
            "                                                                 \n",
            " max_pooling2d_1 (MaxPoolin  (None, 10, 10, 128)       0         \n",
            " g2D)                                                            \n",
            "                                                                 \n",
            " conv2d_2 (Conv2D)           (None, 8, 8, 256)         295168    \n",
            "                                                                 \n",
            " max_pooling2d_2 (MaxPoolin  (None, 4, 4, 256)         0         \n",
            " g2D)                                                            \n",
            "                                                                 \n",
            " flatten (Flatten)           (None, 4096)              0         \n",
            "                                                                 \n",
            " dense (Dense)               (None, 256)               1048832   \n",
            "                                                                 \n",
            " dropout (Dropout)           (None, 256)               0         \n",
            "                                                                 \n",
            " dense_1 (Dense)             (None, 128)               32896     \n",
            "                                                                 \n",
            " dropout_1 (Dropout)         (None, 128)               0         \n",
            "                                                                 \n",
            " dense_2 (Dense)             (None, 3)                 387       \n",
            "                                                                 \n",
            "=================================================================\n",
            "Total params: 1451779 (5.54 MB)\n",
            "Trainable params: 1451779 (5.54 MB)\n",
            "Non-trainable params: 0 (0.00 Byte)\n",
            "_________________________________________________________________\n"
          ]
        }
      ],
      "source": [
        "basemodel.summary()"
      ]
    },
    {
      "cell_type": "code",
      "execution_count": 13,
      "metadata": {
        "id": "kbVuJ3S_Tvyc"
      },
      "outputs": [],
      "source": [
        "initial_learning_rate = 0.0001  # You can adjust this value\n",
        "#optimizer = tf.keras.optimizers.RMSprop(learning_rate=initial_learning_rate)\n",
        "optimizer=tf.keras.optimizers.Adam(learning_rate=initial_learning_rate)\n",
        "basemodel.compile(optimizer=optimizer,\n",
        "                loss='sparse_categorical_crossentropy',\n",
        "                metrics=['accuracy'])"
      ]
    },
    {
      "cell_type": "code",
      "execution_count": 14,
      "metadata": {
        "id": "ydWj3uHeTvyc"
      },
      "outputs": [],
      "source": [
        "def lr_schedule(epoch):\n",
        "    if epoch < 10:\n",
        "        return initial_learning_rate\n",
        "    else:\n",
        "        return initial_learning_rate * 0.1"
      ]
    },
    {
      "cell_type": "code",
      "execution_count": 15,
      "metadata": {
        "id": "9hmcZe2iTvyd"
      },
      "outputs": [],
      "source": [
        "file_name = 'best_model.h5'\n",
        "checkpoint_path= os.path.join('checkpoint',file_name)\n",
        "\n",
        "\n",
        "call_back = [\n",
        "    tf.keras.callbacks.ModelCheckpoint(filepath=checkpoint_path,\n",
        "                                        monitor='val_accuracy',\n",
        "                                        verbose=1,\n",
        "                                        save_freq='epoch',\n",
        "                                        save_best_only=True,\n",
        "                                        save_weights_only=False,\n",
        "                                        mode='max'),\n",
        "    tf.keras.callbacks.EarlyStopping(\n",
        "        monitor='val_accuracy',\n",
        "        patience=10,\n",
        "        restore_best_weights=True\n",
        "    ),\n",
        "    tf.keras.callbacks.LearningRateScheduler(lr_schedule)\n",
        "    #tf.keras.callbacks.ReduceLROnPlateau(monitor='val_accuracy', patience=10,\n",
        "    #                              verbose=1,factor=0.2, min_lr=0.000001)\n",
        "]"
      ]
    },
    {
      "cell_type": "code",
      "execution_count": 16,
      "metadata": {
        "colab": {
          "base_uri": "https://localhost:8080/"
        },
        "id": "939u-CKATvyd",
        "outputId": "f3421373-b151-49fc-f26b-0a65c6c77991"
      },
      "outputs": [
        {
          "output_type": "stream",
          "name": "stdout",
          "text": [
            "Epoch 1/100\n",
            "710/710 [==============================] - ETA: 0s - loss: 1.0733 - accuracy: 0.4134\n",
            "Epoch 1: val_accuracy improved from -inf to 0.46495, saving model to checkpoint/best_model.h5\n",
            "710/710 [==============================] - 19s 10ms/step - loss: 1.0733 - accuracy: 0.4134 - val_loss: 1.0296 - val_accuracy: 0.4650 - lr: 1.0000e-04\n",
            "Epoch 2/100\n",
            "  8/710 [..............................] - ETA: 5s - loss: 1.0279 - accuracy: 0.4727"
          ]
        },
        {
          "output_type": "stream",
          "name": "stderr",
          "text": [
            "/usr/local/lib/python3.10/dist-packages/keras/src/engine/training.py:3079: UserWarning: You are saving your model as an HDF5 file via `model.save()`. This file format is considered legacy. We recommend using instead the native Keras format, e.g. `model.save('my_model.keras')`.\n",
            "  saving_api.save_model(\n"
          ]
        },
        {
          "output_type": "stream",
          "name": "stdout",
          "text": [
            "709/710 [============================>.] - ETA: 0s - loss: 0.9872 - accuracy: 0.5278\n",
            "Epoch 2: val_accuracy improved from 0.46495 to 0.58929, saving model to checkpoint/best_model.h5\n",
            "710/710 [==============================] - 6s 8ms/step - loss: 0.9871 - accuracy: 0.5277 - val_loss: 0.9106 - val_accuracy: 0.5893 - lr: 1.0000e-04\n",
            "Epoch 3/100\n",
            "705/710 [============================>.] - ETA: 0s - loss: 0.8866 - accuracy: 0.5980\n",
            "Epoch 3: val_accuracy improved from 0.58929 to 0.62962, saving model to checkpoint/best_model.h5\n",
            "710/710 [==============================] - 6s 8ms/step - loss: 0.8866 - accuracy: 0.5979 - val_loss: 0.8156 - val_accuracy: 0.6296 - lr: 1.0000e-04\n",
            "Epoch 4/100\n",
            "709/710 [============================>.] - ETA: 0s - loss: 0.8078 - accuracy: 0.6370\n",
            "Epoch 4: val_accuracy improved from 0.62962 to 0.65393, saving model to checkpoint/best_model.h5\n",
            "710/710 [==============================] - 6s 8ms/step - loss: 0.8078 - accuracy: 0.6370 - val_loss: 0.7661 - val_accuracy: 0.6539 - lr: 1.0000e-04\n",
            "Epoch 5/100\n",
            "705/710 [============================>.] - ETA: 0s - loss: 0.7493 - accuracy: 0.6711\n",
            "Epoch 5: val_accuracy improved from 0.65393 to 0.68492, saving model to checkpoint/best_model.h5\n",
            "710/710 [==============================] - 5s 7ms/step - loss: 0.7491 - accuracy: 0.6712 - val_loss: 0.7127 - val_accuracy: 0.6849 - lr: 1.0000e-04\n",
            "Epoch 6/100\n",
            "707/710 [============================>.] - ETA: 0s - loss: 0.7036 - accuracy: 0.6965\n",
            "Epoch 6: val_accuracy improved from 0.68492 to 0.69215, saving model to checkpoint/best_model.h5\n",
            "710/710 [==============================] - 7s 10ms/step - loss: 0.7037 - accuracy: 0.6966 - val_loss: 0.6923 - val_accuracy: 0.6921 - lr: 1.0000e-04\n",
            "Epoch 7/100\n",
            "705/710 [============================>.] - ETA: 0s - loss: 0.6659 - accuracy: 0.7169\n",
            "Epoch 7: val_accuracy improved from 0.69215 to 0.69725, saving model to checkpoint/best_model.h5\n",
            "710/710 [==============================] - 6s 8ms/step - loss: 0.6658 - accuracy: 0.7170 - val_loss: 0.6814 - val_accuracy: 0.6973 - lr: 1.0000e-04\n",
            "Epoch 8/100\n",
            "709/710 [============================>.] - ETA: 0s - loss: 0.6268 - accuracy: 0.7338\n",
            "Epoch 8: val_accuracy improved from 0.69725 to 0.72244, saving model to checkpoint/best_model.h5\n",
            "710/710 [==============================] - 5s 7ms/step - loss: 0.6267 - accuracy: 0.7339 - val_loss: 0.6532 - val_accuracy: 0.7224 - lr: 1.0000e-04\n",
            "Epoch 9/100\n",
            "707/710 [============================>.] - ETA: 0s - loss: 0.5930 - accuracy: 0.7509\n",
            "Epoch 9: val_accuracy did not improve from 0.72244\n",
            "710/710 [==============================] - 6s 8ms/step - loss: 0.5929 - accuracy: 0.7507 - val_loss: 0.6523 - val_accuracy: 0.7076 - lr: 1.0000e-04\n",
            "Epoch 10/100\n",
            "704/710 [============================>.] - ETA: 0s - loss: 0.5590 - accuracy: 0.7658\n",
            "Epoch 10: val_accuracy improved from 0.72244 to 0.73019, saving model to checkpoint/best_model.h5\n",
            "710/710 [==============================] - 6s 8ms/step - loss: 0.5589 - accuracy: 0.7658 - val_loss: 0.6262 - val_accuracy: 0.7302 - lr: 1.0000e-04\n",
            "Epoch 11/100\n",
            "710/710 [==============================] - ETA: 0s - loss: 0.5077 - accuracy: 0.7917\n",
            "Epoch 11: val_accuracy improved from 0.73019 to 0.74093, saving model to checkpoint/best_model.h5\n",
            "710/710 [==============================] - 6s 8ms/step - loss: 0.5077 - accuracy: 0.7917 - val_loss: 0.6132 - val_accuracy: 0.7409 - lr: 1.0000e-05\n",
            "Epoch 12/100\n",
            "705/710 [============================>.] - ETA: 0s - loss: 0.4932 - accuracy: 0.8007\n",
            "Epoch 12: val_accuracy improved from 0.74093 to 0.74304, saving model to checkpoint/best_model.h5\n",
            "710/710 [==============================] - 5s 8ms/step - loss: 0.4930 - accuracy: 0.8009 - val_loss: 0.6137 - val_accuracy: 0.7430 - lr: 1.0000e-05\n",
            "Epoch 13/100\n",
            "708/710 [============================>.] - ETA: 0s - loss: 0.4859 - accuracy: 0.8023\n",
            "Epoch 13: val_accuracy did not improve from 0.74304\n",
            "710/710 [==============================] - 5s 8ms/step - loss: 0.4859 - accuracy: 0.8023 - val_loss: 0.6112 - val_accuracy: 0.7415 - lr: 1.0000e-05\n",
            "Epoch 14/100\n",
            "709/710 [============================>.] - ETA: 0s - loss: 0.4786 - accuracy: 0.8045\n",
            "Epoch 14: val_accuracy improved from 0.74304 to 0.74357, saving model to checkpoint/best_model.h5\n",
            "710/710 [==============================] - 6s 8ms/step - loss: 0.4786 - accuracy: 0.8044 - val_loss: 0.6136 - val_accuracy: 0.7436 - lr: 1.0000e-05\n",
            "Epoch 15/100\n",
            "705/710 [============================>.] - ETA: 0s - loss: 0.4739 - accuracy: 0.8066\n",
            "Epoch 15: val_accuracy improved from 0.74357 to 0.74533, saving model to checkpoint/best_model.h5\n",
            "710/710 [==============================] - 5s 8ms/step - loss: 0.4741 - accuracy: 0.8066 - val_loss: 0.6110 - val_accuracy: 0.7453 - lr: 1.0000e-05\n",
            "Epoch 16/100\n",
            "710/710 [==============================] - ETA: 0s - loss: 0.4650 - accuracy: 0.8114\n",
            "Epoch 16: val_accuracy did not improve from 0.74533\n",
            "710/710 [==============================] - 6s 9ms/step - loss: 0.4650 - accuracy: 0.8114 - val_loss: 0.6136 - val_accuracy: 0.7448 - lr: 1.0000e-05\n",
            "Epoch 17/100\n",
            "710/710 [==============================] - ETA: 0s - loss: 0.4627 - accuracy: 0.8128\n",
            "Epoch 17: val_accuracy improved from 0.74533 to 0.74604, saving model to checkpoint/best_model.h5\n",
            "710/710 [==============================] - 6s 9ms/step - loss: 0.4627 - accuracy: 0.8128 - val_loss: 0.6087 - val_accuracy: 0.7460 - lr: 1.0000e-05\n",
            "Epoch 18/100\n",
            "710/710 [==============================] - ETA: 0s - loss: 0.4580 - accuracy: 0.8154\n",
            "Epoch 18: val_accuracy did not improve from 0.74604\n",
            "710/710 [==============================] - 6s 8ms/step - loss: 0.4580 - accuracy: 0.8154 - val_loss: 0.6140 - val_accuracy: 0.7446 - lr: 1.0000e-05\n",
            "Epoch 19/100\n",
            "706/710 [============================>.] - ETA: 0s - loss: 0.4514 - accuracy: 0.8191\n",
            "Epoch 19: val_accuracy improved from 0.74604 to 0.74639, saving model to checkpoint/best_model.h5\n",
            "710/710 [==============================] - 5s 8ms/step - loss: 0.4515 - accuracy: 0.8191 - val_loss: 0.6064 - val_accuracy: 0.7464 - lr: 1.0000e-05\n",
            "Epoch 20/100\n",
            "704/710 [============================>.] - ETA: 0s - loss: 0.4479 - accuracy: 0.8217\n",
            "Epoch 20: val_accuracy improved from 0.74639 to 0.74797, saving model to checkpoint/best_model.h5\n",
            "710/710 [==============================] - 5s 8ms/step - loss: 0.4485 - accuracy: 0.8213 - val_loss: 0.6105 - val_accuracy: 0.7480 - lr: 1.0000e-05\n",
            "Epoch 21/100\n",
            "707/710 [============================>.] - ETA: 0s - loss: 0.4438 - accuracy: 0.8215\n",
            "Epoch 21: val_accuracy did not improve from 0.74797\n",
            "710/710 [==============================] - 6s 9ms/step - loss: 0.4433 - accuracy: 0.8217 - val_loss: 0.6111 - val_accuracy: 0.7466 - lr: 1.0000e-05\n",
            "Epoch 22/100\n",
            "705/710 [============================>.] - ETA: 0s - loss: 0.4390 - accuracy: 0.8240\n",
            "Epoch 22: val_accuracy did not improve from 0.74797\n",
            "710/710 [==============================] - 5s 7ms/step - loss: 0.4390 - accuracy: 0.8240 - val_loss: 0.6131 - val_accuracy: 0.7446 - lr: 1.0000e-05\n",
            "Epoch 23/100\n",
            "708/710 [============================>.] - ETA: 0s - loss: 0.4314 - accuracy: 0.8276\n",
            "Epoch 23: val_accuracy did not improve from 0.74797\n",
            "710/710 [==============================] - 6s 8ms/step - loss: 0.4315 - accuracy: 0.8274 - val_loss: 0.6110 - val_accuracy: 0.7466 - lr: 1.0000e-05\n",
            "Epoch 24/100\n",
            "709/710 [============================>.] - ETA: 0s - loss: 0.4255 - accuracy: 0.8322\n",
            "Epoch 24: val_accuracy improved from 0.74797 to 0.74868, saving model to checkpoint/best_model.h5\n",
            "710/710 [==============================] - 5s 8ms/step - loss: 0.4254 - accuracy: 0.8322 - val_loss: 0.6134 - val_accuracy: 0.7487 - lr: 1.0000e-05\n",
            "Epoch 25/100\n",
            "704/710 [============================>.] - ETA: 0s - loss: 0.4231 - accuracy: 0.8318\n",
            "Epoch 25: val_accuracy did not improve from 0.74868\n",
            "710/710 [==============================] - 6s 8ms/step - loss: 0.4226 - accuracy: 0.8319 - val_loss: 0.6244 - val_accuracy: 0.7452 - lr: 1.0000e-05\n",
            "Epoch 26/100\n",
            "705/710 [============================>.] - ETA: 0s - loss: 0.4178 - accuracy: 0.8351\n",
            "Epoch 26: val_accuracy did not improve from 0.74868\n",
            "710/710 [==============================] - 6s 8ms/step - loss: 0.4179 - accuracy: 0.8349 - val_loss: 0.6156 - val_accuracy: 0.7485 - lr: 1.0000e-05\n",
            "Epoch 27/100\n",
            "707/710 [============================>.] - ETA: 0s - loss: 0.4107 - accuracy: 0.8377\n",
            "Epoch 27: val_accuracy did not improve from 0.74868\n",
            "710/710 [==============================] - 5s 8ms/step - loss: 0.4105 - accuracy: 0.8378 - val_loss: 0.6154 - val_accuracy: 0.7466 - lr: 1.0000e-05\n",
            "Epoch 28/100\n",
            "710/710 [==============================] - ETA: 0s - loss: 0.4088 - accuracy: 0.8376\n",
            "Epoch 28: val_accuracy did not improve from 0.74868\n",
            "710/710 [==============================] - 6s 8ms/step - loss: 0.4088 - accuracy: 0.8376 - val_loss: 0.6106 - val_accuracy: 0.7482 - lr: 1.0000e-05\n",
            "Epoch 29/100\n",
            "709/710 [============================>.] - ETA: 0s - loss: 0.4048 - accuracy: 0.8417\n",
            "Epoch 29: val_accuracy did not improve from 0.74868\n",
            "710/710 [==============================] - 5s 8ms/step - loss: 0.4049 - accuracy: 0.8416 - val_loss: 0.6126 - val_accuracy: 0.7473 - lr: 1.0000e-05\n",
            "Epoch 30/100\n",
            "709/710 [============================>.] - ETA: 0s - loss: 0.3980 - accuracy: 0.8446\n",
            "Epoch 30: val_accuracy improved from 0.74868 to 0.74886, saving model to checkpoint/best_model.h5\n",
            "710/710 [==============================] - 5s 8ms/step - loss: 0.3979 - accuracy: 0.8447 - val_loss: 0.6220 - val_accuracy: 0.7489 - lr: 1.0000e-05\n",
            "Epoch 31/100\n",
            "710/710 [==============================] - ETA: 0s - loss: 0.3950 - accuracy: 0.8455\n",
            "Epoch 31: val_accuracy did not improve from 0.74886\n",
            "710/710 [==============================] - 6s 8ms/step - loss: 0.3950 - accuracy: 0.8455 - val_loss: 0.6152 - val_accuracy: 0.7474 - lr: 1.0000e-05\n",
            "Epoch 32/100\n",
            "708/710 [============================>.] - ETA: 0s - loss: 0.3914 - accuracy: 0.8472\n",
            "Epoch 32: val_accuracy did not improve from 0.74886\n",
            "710/710 [==============================] - 5s 7ms/step - loss: 0.3916 - accuracy: 0.8472 - val_loss: 0.6167 - val_accuracy: 0.7457 - lr: 1.0000e-05\n",
            "Epoch 33/100\n",
            "706/710 [============================>.] - ETA: 0s - loss: 0.3854 - accuracy: 0.8506\n",
            "Epoch 33: val_accuracy did not improve from 0.74886\n",
            "710/710 [==============================] - 6s 8ms/step - loss: 0.3856 - accuracy: 0.8507 - val_loss: 0.6150 - val_accuracy: 0.7483 - lr: 1.0000e-05\n",
            "Epoch 34/100\n",
            "708/710 [============================>.] - ETA: 0s - loss: 0.3772 - accuracy: 0.8534\n",
            "Epoch 34: val_accuracy did not improve from 0.74886\n",
            "710/710 [==============================] - 5s 7ms/step - loss: 0.3776 - accuracy: 0.8531 - val_loss: 0.6228 - val_accuracy: 0.7485 - lr: 1.0000e-05\n",
            "Epoch 35/100\n",
            "707/710 [============================>.] - ETA: 0s - loss: 0.3765 - accuracy: 0.8525\n",
            "Epoch 35: val_accuracy did not improve from 0.74886\n",
            "710/710 [==============================] - 6s 8ms/step - loss: 0.3767 - accuracy: 0.8524 - val_loss: 0.6208 - val_accuracy: 0.7485 - lr: 1.0000e-05\n",
            "Epoch 36/100\n",
            "707/710 [============================>.] - ETA: 0s - loss: 0.3707 - accuracy: 0.8550\n",
            "Epoch 36: val_accuracy did not improve from 0.74886\n",
            "710/710 [==============================] - 5s 8ms/step - loss: 0.3707 - accuracy: 0.8550 - val_loss: 0.6219 - val_accuracy: 0.7478 - lr: 1.0000e-05\n",
            "Epoch 37/100\n",
            "707/710 [============================>.] - ETA: 0s - loss: 0.3653 - accuracy: 0.8572\n",
            "Epoch 37: val_accuracy improved from 0.74886 to 0.75255, saving model to checkpoint/best_model.h5\n",
            "710/710 [==============================] - 5s 7ms/step - loss: 0.3654 - accuracy: 0.8570 - val_loss: 0.6242 - val_accuracy: 0.7526 - lr: 1.0000e-05\n",
            "Epoch 38/100\n",
            "708/710 [============================>.] - ETA: 0s - loss: 0.3585 - accuracy: 0.8608\n",
            "Epoch 38: val_accuracy did not improve from 0.75255\n",
            "710/710 [==============================] - 6s 8ms/step - loss: 0.3583 - accuracy: 0.8609 - val_loss: 0.6325 - val_accuracy: 0.7504 - lr: 1.0000e-05\n",
            "Epoch 39/100\n",
            "705/710 [============================>.] - ETA: 0s - loss: 0.3580 - accuracy: 0.8618\n",
            "Epoch 39: val_accuracy did not improve from 0.75255\n",
            "710/710 [==============================] - 5s 8ms/step - loss: 0.3579 - accuracy: 0.8619 - val_loss: 0.6274 - val_accuracy: 0.7494 - lr: 1.0000e-05\n",
            "Epoch 40/100\n",
            "710/710 [==============================] - ETA: 0s - loss: 0.3547 - accuracy: 0.8606\n",
            "Epoch 40: val_accuracy improved from 0.75255 to 0.75379, saving model to checkpoint/best_model.h5\n",
            "710/710 [==============================] - 6s 8ms/step - loss: 0.3547 - accuracy: 0.8606 - val_loss: 0.6298 - val_accuracy: 0.7538 - lr: 1.0000e-05\n",
            "Epoch 41/100\n",
            "704/710 [============================>.] - ETA: 0s - loss: 0.3485 - accuracy: 0.8645\n",
            "Epoch 41: val_accuracy did not improve from 0.75379\n",
            "710/710 [==============================] - 6s 8ms/step - loss: 0.3482 - accuracy: 0.8649 - val_loss: 0.6264 - val_accuracy: 0.7482 - lr: 1.0000e-05\n",
            "Epoch 42/100\n",
            "707/710 [============================>.] - ETA: 0s - loss: 0.3427 - accuracy: 0.8710\n",
            "Epoch 42: val_accuracy did not improve from 0.75379\n",
            "710/710 [==============================] - 5s 7ms/step - loss: 0.3428 - accuracy: 0.8707 - val_loss: 0.6349 - val_accuracy: 0.7522 - lr: 1.0000e-05\n",
            "Epoch 43/100\n",
            "708/710 [============================>.] - ETA: 0s - loss: 0.3391 - accuracy: 0.8711\n",
            "Epoch 43: val_accuracy did not improve from 0.75379\n",
            "710/710 [==============================] - 6s 9ms/step - loss: 0.3389 - accuracy: 0.8712 - val_loss: 0.6348 - val_accuracy: 0.7478 - lr: 1.0000e-05\n",
            "Epoch 44/100\n",
            "704/710 [============================>.] - ETA: 0s - loss: 0.3341 - accuracy: 0.8713\n",
            "Epoch 44: val_accuracy did not improve from 0.75379\n",
            "710/710 [==============================] - 5s 7ms/step - loss: 0.3342 - accuracy: 0.8712 - val_loss: 0.6327 - val_accuracy: 0.7478 - lr: 1.0000e-05\n",
            "Epoch 45/100\n",
            "706/710 [============================>.] - ETA: 0s - loss: 0.3296 - accuracy: 0.8730\n",
            "Epoch 45: val_accuracy did not improve from 0.75379\n",
            "710/710 [==============================] - 6s 8ms/step - loss: 0.3294 - accuracy: 0.8730 - val_loss: 0.6444 - val_accuracy: 0.7494 - lr: 1.0000e-05\n",
            "Epoch 46/100\n",
            "706/710 [============================>.] - ETA: 0s - loss: 0.3217 - accuracy: 0.8766\n",
            "Epoch 46: val_accuracy did not improve from 0.75379\n",
            "710/710 [==============================] - 5s 8ms/step - loss: 0.3216 - accuracy: 0.8767 - val_loss: 0.6472 - val_accuracy: 0.7517 - lr: 1.0000e-05\n",
            "Epoch 47/100\n",
            "704/710 [============================>.] - ETA: 0s - loss: 0.3175 - accuracy: 0.8783\n",
            "Epoch 47: val_accuracy did not improve from 0.75379\n",
            "710/710 [==============================] - 5s 8ms/step - loss: 0.3171 - accuracy: 0.8787 - val_loss: 0.6516 - val_accuracy: 0.7480 - lr: 1.0000e-05\n",
            "Epoch 48/100\n",
            "704/710 [============================>.] - ETA: 0s - loss: 0.3171 - accuracy: 0.8780\n",
            "Epoch 48: val_accuracy did not improve from 0.75379\n",
            "710/710 [==============================] - 6s 8ms/step - loss: 0.3177 - accuracy: 0.8778 - val_loss: 0.6452 - val_accuracy: 0.7457 - lr: 1.0000e-05\n",
            "Epoch 49/100\n",
            "707/710 [============================>.] - ETA: 0s - loss: 0.3105 - accuracy: 0.8834\n",
            "Epoch 49: val_accuracy did not improve from 0.75379\n",
            "710/710 [==============================] - 5s 8ms/step - loss: 0.3106 - accuracy: 0.8834 - val_loss: 0.6523 - val_accuracy: 0.7462 - lr: 1.0000e-05\n",
            "Epoch 50/100\n",
            "709/710 [============================>.] - ETA: 0s - loss: 0.3063 - accuracy: 0.8842\n",
            "Epoch 50: val_accuracy did not improve from 0.75379\n",
            "710/710 [==============================] - 6s 8ms/step - loss: 0.3063 - accuracy: 0.8842 - val_loss: 0.6465 - val_accuracy: 0.7487 - lr: 1.0000e-05\n"
          ]
        }
      ],
      "source": [
        "#history = basemodel.fit(train_generator,\n",
        "#                        epochs=100,\n",
        "#                        validation_data=val_generator,\n",
        "#                        callbacks=call_back)\n",
        "\n",
        "history = basemodel.fit(X_train, y_train,\n",
        "                        epochs=100,\n",
        "                        batch_size=batch_size,\n",
        "                        validation_split=.2,\n",
        "                        callbacks=call_back)"
      ]
    },
    {
      "cell_type": "code",
      "execution_count": 17,
      "metadata": {
        "colab": {
          "base_uri": "https://localhost:8080/",
          "height": 448
        },
        "id": "A0Q5NREdTvyd",
        "outputId": "c5db2189-e86c-49d0-b273-aa45c143968d"
      },
      "outputs": [
        {
          "output_type": "execute_result",
          "data": {
            "text/plain": [
              "<matplotlib.legend.Legend at 0x7b1d51f317b0>"
            ]
          },
          "metadata": {},
          "execution_count": 17
        },
        {
          "output_type": "display_data",
          "data": {
            "text/plain": [
              "<Figure size 640x480 with 1 Axes>"
            ],
            "image/png": "[encoded data removed]"
          },
          "metadata": {}
        }
      ],
      "source": [
        "# Plot loss per iteration\n",
        "import matplotlib.pyplot as plt\n",
        "plt.plot(history.history['loss'], label='loss')\n",
        "plt.plot(history.history['val_loss'], label='val_loss')\n",
        "plt.legend()"
      ]
    },
    {
      "cell_type": "code",
      "execution_count": 18,
      "metadata": {
        "colab": {
          "base_uri": "https://localhost:8080/",
          "height": 448
        },
        "id": "YBHwmcxlTvye",
        "outputId": "b421732a-7e29-4b73-b92f-cdab120e3d1e"
      },
      "outputs": [
        {
          "output_type": "execute_result",
          "data": {
            "text/plain": [
              "<matplotlib.legend.Legend at 0x7b1d38112020>"
            ]
          },
          "metadata": {},
          "execution_count": 18
        },
        {
          "output_type": "display_data",
          "data": {
            "text/plain": [
              "<Figure size 640x480 with 1 Axes>"
            ],
            "image/png": "[encoded data removed]"
          },
          "metadata": {}
        }
      ],
      "source": [
        "# Plot accuracy per iteration\n",
        "plt.plot(history.history['accuracy'], label='acc')\n",
        "plt.plot(history.history['val_accuracy'], label='val_acc')\n",
        "plt.legend()"
      ]
    },
    {
      "cell_type": "code",
      "execution_count": 19,
      "metadata": {
        "colab": {
          "base_uri": "https://localhost:8080/",
          "height": 780
        },
        "id": "HITqeIZlTvye",
        "outputId": "e27f5dc9-3657-496c-ab5c-51afb26bf522"
      },
      "outputs": [
        {
          "output_type": "stream",
          "name": "stdout",
          "text": [
            "222/222 [==============================] - 1s 3ms/step\n",
            "              precision    recall  f1-score   support\n",
            "\n",
            "    positive     0.8289    0.8418    0.8353      2763\n",
            "     neutral     0.7233    0.8245    0.7706      2581\n",
            "    negative     0.7109    0.5471    0.6183      1753\n",
            "\n",
            "    accuracy                         0.7627      7097\n",
            "   macro avg     0.7544    0.7378    0.7414      7097\n",
            "weighted avg     0.7614    0.7627    0.7582      7097\n",
            "\n",
            "Confusion matrix, without normalization\n",
            "[[2326  281  156]\n",
            " [ 219 2128  234]\n",
            " [ 261  533  959]]\n"
          ]
        },
        {
          "output_type": "display_data",
          "data": {
            "text/plain": [
              "<Figure size 640x480 with 2 Axes>"
            ],
            "image/png": "[encoded data removed]"
          },
          "metadata": {}
        }
      ],
      "source": [
        "# Plot confusion matrix\n",
        "from sklearn.metrics import confusion_matrix, classification_report\n",
        "import itertools\n",
        "\n",
        "def plot_confusion_matrix(cm, classes,\n",
        "                          normalize=False,\n",
        "                          title='Confusion matrix',\n",
        "                          cmap=plt.cm.Blues):\n",
        "  \"\"\"\n",
        "  This function prints and plots the confusion matrix.\n",
        "  Normalization can be applied by setting `normalize=True`.\n",
        "  \"\"\"\n",
        "  if normalize:\n",
        "      cm = cm.astype('float') / cm.sum(axis=1)[:, np.newaxis]\n",
        "      print(\"Normalized confusion matrix\")\n",
        "  else:\n",
        "      print('Confusion matrix, without normalization')\n",
        "\n",
        "  print(cm)\n",
        "\n",
        "  plt.imshow(cm, interpolation='nearest', cmap=cmap)\n",
        "  plt.title(title)\n",
        "  plt.colorbar()\n",
        "  tick_marks = np.arange(len(classes))\n",
        "  plt.xticks(tick_marks, classes, rotation=45)\n",
        "  plt.yticks(tick_marks, classes)\n",
        "\n",
        "  fmt = '.2f' if normalize else 'd'\n",
        "  thresh = cm.max() / 2.\n",
        "  for i, j in itertools.product(range(cm.shape[0]), range(cm.shape[1])):\n",
        "      plt.text(j, i, format(cm[i, j], fmt),\n",
        "               horizontalalignment=\"center\",\n",
        "               color=\"white\" if cm[i, j] > thresh else \"black\")\n",
        "\n",
        "  plt.tight_layout()\n",
        "  plt.ylabel('True label')\n",
        "  plt.xlabel('Predicted label')\n",
        "  plt.show()\n",
        "\n",
        "\n",
        "#label_to_text = {0:'anger', 1:'disgust', 2:'fear', 3:'happiness', 4: 'sadness', 5: 'surprise', 6: 'neutral', 7:'contempt'}  #original\n",
        "#target_names=['anger', 'disgust', 'fear', 'happiness', 'sadness', 'surprise', 'neutral', 'contempt']\n",
        "label_to_text = {0:'positive', 1:'neutral', 2:'negative'}\n",
        "target_names=['positive', 'neutral', 'negative']\n",
        "\n",
        "p_test = basemodel.predict(X_test).argmax(axis=1)\n",
        "cm = confusion_matrix(y_test, p_test)\n",
        "cr = classification_report(y_test, p_test, target_names=target_names, digits=4)\n",
        "print(cr)\n",
        "plot_confusion_matrix(cm, list(label_to_text.values()))"
      ]
    },
    {
      "cell_type": "code",
      "execution_count": 20,
      "metadata": {
        "colab": {
          "base_uri": "https://localhost:8080/",
          "height": 36
        },
        "id": "UICrS3EXTvye",
        "outputId": "69cad3de-da36-4bf9-80b4-88346ab3a970"
      },
      "outputs": [
        {
          "output_type": "execute_result",
          "data": {
            "text/plain": [
              "'checkpoint/best_model.h5'"
            ],
            "application/vnd.google.colaboratory.intrinsic+json": {
              "type": "string"
            }
          },
          "metadata": {},
          "execution_count": 20
        }
      ],
      "source": [
        "checkpoint_path"
      ]
    },
    {
      "cell_type": "code",
      "execution_count": 21,
      "metadata": {
        "colab": {
          "base_uri": "https://localhost:8080/",
          "height": 486
        },
        "id": "v2jgIdIxTvyf",
        "outputId": "f37a9b96-3fab-4eea-c5e5-6b0747bee6a5"
      },
      "outputs": [
        {
          "output_type": "stream",
          "name": "stdout",
          "text": [
            "actual label is positive\n",
            "1/1 [==============================] - 0s 19ms/step\n",
            "predicted label is positive\n"
          ]
        },
        {
          "output_type": "display_data",
          "data": {
            "text/plain": [
              "<Figure size 640x480 with 1 Axes>"
            ],
            "image/png": "[encoded data removed]"
          },
          "metadata": {}
        }
      ],
      "source": [
        "final_model = tf.keras.models.load_model(checkpoint_path)\n",
        "from IPython.display import clear_output\n",
        "import time\n",
        "\n",
        "for k in range(40):\n",
        "        print(f'actual label is {label_to_text[y_test[k]]}')\n",
        "        predicted_class = final_model.predict(tf.expand_dims(X_test[k],0)).argmax()\n",
        "        print(f'predicted label is {label_to_text[predicted_class]}')\n",
        "        plt.imshow(X_test[k].reshape((48,48)))\n",
        "        plt.show()\n",
        "        time.sleep(3)\n",
        "        clear_output(wait=True)"
      ]
    },
    {
      "cell_type": "code",
      "execution_count": 28,
      "metadata": {
        "id": "P6vjrJ8xTvyf"
      },
      "outputs": [],
      "source": []
    }
  ],
  "metadata": {
    "accelerator": "GPU",
    "colab": {
      "provenance": []
    },
    "kernelspec": {
      "display_name": "Python 3",
      "name": "python3"
    },
    "language_info": {
      "codemirror_mode": {
        "name": "ipython",
        "version": 3
      },
      "file_extension": ".py",
      "mimetype": "text/x-python",
      "name": "python",
      "nbconvert_exporter": "python",
      "pygments_lexer": "ipython3",
      "version": "3.11.5"
    }
  },
  "nbformat": 4,
  "nbformat_minor": 0
}