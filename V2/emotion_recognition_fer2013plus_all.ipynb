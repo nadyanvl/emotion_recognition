{
  "cells": [
    {
      "cell_type": "code",
      "execution_count": 1,
      "metadata": {
        "colab": {
          "base_uri": "https://localhost:8080/"
        },
        "id": "O0bpDHeNT21j",
        "outputId": "289961fa-4b61-4f0b-c261-a74b9ee315e9"
      },
      "outputs": [
        {
          "output_type": "stream",
          "name": "stdout",
          "text": [
            "Mounted at /content/drive\n"
          ]
        }
      ],
      "source": [
        "from google.colab import drive\n",
        "drive.mount('/content/drive')"
      ]
    },
    {
      "cell_type": "code",
      "execution_count": 2,
      "metadata": {
        "id": "dR4TeCIoTvyV"
      },
      "outputs": [],
      "source": [
        "import os\n",
        "import pandas as pd\n",
        "import numpy as np\n",
        "import tensorflow as tf\n",
        "from matplotlib import pyplot as plt\n",
        "from sklearn.model_selection import train_test_split\n",
        "from tensorflow.keras.preprocessing.image import ImageDataGenerator"
      ]
    },
    {
      "cell_type": "code",
      "execution_count": 3,
      "metadata": {
        "colab": {
          "base_uri": "https://localhost:8080/",
          "height": 206
        },
        "id": "EozAAN9KTvyV",
        "outputId": "6f3e596f-7876-47e2-8b1a-51ec933ddf6f"
      },
      "outputs": [
        {
          "output_type": "execute_result",
          "data": {
            "text/plain": [
              "   emotion                                             pixels     Usage\n",
              "0        0  30 24 21 23 25 25 49 67 84 103 120 125 130 139...  Training\n",
              "1        0  123 125 124 142 209 226 234 236 231 232 235 22...  Training\n",
              "2        0  236 230 225 226 228 209 199 193 196 211 199 19...  Training\n",
              "3        0  255 82 0 3 0 0 0 0 0 0 3 0 16 17 3 60 29 0 1 2...  Training\n",
              "4        0  206 208 209 212 214 216 216 219 221 222 222 22...  Training"
            ],
            "text/html": [
              "\n",
              "  <div id=\"df-510118a6-4af1-4406-b071-072f90ff9f36\" class=\"colab-df-container\">\n",
              "    <div>\n",
              "<style scoped>\n",
              "    .dataframe tbody tr th:only-of-type {\n",
              "        vertical-align: middle;\n",
              "    }\n",
              "\n",
              "    .dataframe tbody tr th {\n",
              "        vertical-align: top;\n",
              "    }\n",
              "\n",
              "    .dataframe thead th {\n",
              "        text-align: right;\n",
              "    }\n",
              "</style>\n",
              "<table border=\"1\" class=\"dataframe\">\n",
              "  <thead>\n",
              "    <tr style=\"text-align: right;\">\n",
              "      <th></th>\n",
              "      <th>emotion</th>\n",
              "      <th>pixels</th>\n",
              "      <th>Usage</th>\n",
              "    </tr>\n",
              "  </thead>\n",
              "  <tbody>\n",
              "    <tr>\n",
              "      <th>0</th>\n",
              "      <td>0</td>\n",
              "      <td>30 24 21 23 25 25 49 67 84 103 120 125 130 139...</td>\n",
              "      <td>Training</td>\n",
              "    </tr>\n",
              "    <tr>\n",
              "      <th>1</th>\n",
              "      <td>0</td>\n",
              "      <td>123 125 124 142 209 226 234 236 231 232 235 22...</td>\n",
              "      <td>Training</td>\n",
              "    </tr>\n",
              "    <tr>\n",
              "      <th>2</th>\n",
              "      <td>0</td>\n",
              "      <td>236 230 225 226 228 209 199 193 196 211 199 19...</td>\n",
              "      <td>Training</td>\n",
              "    </tr>\n",
              "    <tr>\n",
              "      <th>3</th>\n",
              "      <td>0</td>\n",
              "      <td>255 82 0 3 0 0 0 0 0 0 3 0 16 17 3 60 29 0 1 2...</td>\n",
              "      <td>Training</td>\n",
              "    </tr>\n",
              "    <tr>\n",
              "      <th>4</th>\n",
              "      <td>0</td>\n",
              "      <td>206 208 209 212 214 216 216 219 221 222 222 22...</td>\n",
              "      <td>Training</td>\n",
              "    </tr>\n",
              "  </tbody>\n",
              "</table>\n",
              "</div>\n",
              "    <div class=\"colab-df-buttons\">\n",
              "\n",
              "  <div class=\"colab-df-container\">\n",
              "    <button class=\"colab-df-convert\" onclick=\"convertToInteractive('df-510118a6-4af1-4406-b071-072f90ff9f36')\"\n",
              "            title=\"Convert this dataframe to an interactive table.\"\n",
              "            style=\"display:none;\">\n",
              "\n",
              "  <svg xmlns=\"http://www.w3.org/2000/svg\" height=\"24px\" viewBox=\"0 -960 960 960\">\n",
              "    <path d=\"M120-120v-720h720v720H120Zm60-500h600v-160H180v160Zm220 220h160v-160H400v160Zm0 220h160v-160H400v160ZM180-400h160v-160H180v160Zm440 0h160v-160H620v160ZM180-180h160v-160H180v160Zm440 0h160v-160H620v160Z\"/>\n",
              "  </svg>\n",
              "    </button>\n",
              "\n",
              "  <style>\n",
              "    .colab-df-container {\n",
              "      display:flex;\n",
              "      gap: 12px;\n",
              "    }\n",
              "\n",
              "    .colab-df-convert {\n",
              "      background-color: #E8F0FE;\n",
              "      border: none;\n",
              "      border-radius: 50%;\n",
              "      cursor: pointer;\n",
              "      display: none;\n",
              "      fill: #1967D2;\n",
              "      height: 32px;\n",
              "      padding: 0 0 0 0;\n",
              "      width: 32px;\n",
              "    }\n",
              "\n",
              "    .colab-df-convert:hover {\n",
              "      background-color: #E2EBFA;\n",
              "      box-shadow: 0px 1px 2px rgba(60, 64, 67, 0.3), 0px 1px 3px 1px rgba(60, 64, 67, 0.15);\n",
              "      fill: #174EA6;\n",
              "    }\n",
              "\n",
              "    .colab-df-buttons div {\n",
              "      margin-bottom: 4px;\n",
              "    }\n",
              "\n",
              "    [theme=dark] .colab-df-convert {\n",
              "      background-color: #3B4455;\n",
              "      fill: #D2E3FC;\n",
              "    }\n",
              "\n",
              "    [theme=dark] .colab-df-convert:hover {\n",
              "      background-color: #434B5C;\n",
              "      box-shadow: 0px 1px 3px 1px rgba(0, 0, 0, 0.15);\n",
              "      filter: drop-shadow(0px 1px 2px rgba(0, 0, 0, 0.3));\n",
              "      fill: #FFFFFF;\n",
              "    }\n",
              "  </style>\n",
              "\n",
              "    <script>\n",
              "      const buttonEl =\n",
              "        document.querySelector('#df-510118a6-4af1-4406-b071-072f90ff9f36 button.colab-df-convert');\n",
              "      buttonEl.style.display =\n",
              "        google.colab.kernel.accessAllowed ? 'block' : 'none';\n",
              "\n",
              "      async function convertToInteractive(key) {\n",
              "        const element = document.querySelector('#df-510118a6-4af1-4406-b071-072f90ff9f36');\n",
              "        const dataTable =\n",
              "          await google.colab.kernel.invokeFunction('convertToInteractive',\n",
              "                                                    [key], {});\n",
              "        if (!dataTable) return;\n",
              "\n",
              "        const docLinkHtml = 'Like what you see? Visit the ' +\n",
              "          '<a target=\"_blank\" href=https://colab.research.google.com/notebooks/data_table.ipynb>data table notebook</a>'\n",
              "          + ' to learn more about interactive tables.';\n",
              "        element.innerHTML = '';\n",
              "        dataTable['output_type'] = 'display_data';\n",
              "        await google.colab.output.renderOutput(dataTable, element);\n",
              "        const docLink = document.createElement('div');\n",
              "        docLink.innerHTML = docLinkHtml;\n",
              "        element.appendChild(docLink);\n",
              "      }\n",
              "    </script>\n",
              "  </div>\n",
              "\n",
              "\n",
              "<div id=\"df-ed1b185d-daae-4bbe-b983-e7441bf47b93\">\n",
              "  <button class=\"colab-df-quickchart\" onclick=\"quickchart('df-ed1b185d-daae-4bbe-b983-e7441bf47b93')\"\n",
              "            title=\"Suggest charts.\"\n",
              "            style=\"display:none;\">\n",
              "\n",
              "<svg xmlns=\"http://www.w3.org/2000/svg\" height=\"24px\"viewBox=\"0 0 24 24\"\n",
              "     width=\"24px\">\n",
              "    <g>\n",
              "        <path d=\"M19 3H5c-1.1 0-2 .9-2 2v14c0 1.1.9 2 2 2h14c1.1 0 2-.9 2-2V5c0-1.1-.9-2-2-2zM9 17H7v-7h2v7zm4 0h-2V7h2v10zm4 0h-2v-4h2v4z\"/>\n",
              "    </g>\n",
              "</svg>\n",
              "  </button>\n",
              "\n",
              "<style>\n",
              "  .colab-df-quickchart {\n",
              "      --bg-color: #E8F0FE;\n",
              "      --fill-color: #1967D2;\n",
              "      --hover-bg-color: #E2EBFA;\n",
              "      --hover-fill-color: #174EA6;\n",
              "      --disabled-fill-color: #AAA;\n",
              "      --disabled-bg-color: #DDD;\n",
              "  }\n",
              "\n",
              "  [theme=dark] .colab-df-quickchart {\n",
              "      --bg-color: #3B4455;\n",
              "      --fill-color: #D2E3FC;\n",
              "      --hover-bg-color: #434B5C;\n",
              "      --hover-fill-color: #FFFFFF;\n",
              "      --disabled-bg-color: #3B4455;\n",
              "      --disabled-fill-color: #666;\n",
              "  }\n",
              "\n",
              "  .colab-df-quickchart {\n",
              "    background-color: var(--bg-color);\n",
              "    border: none;\n",
              "    border-radius: 50%;\n",
              "    cursor: pointer;\n",
              "    display: none;\n",
              "    fill: var(--fill-color);\n",
              "    height: 32px;\n",
              "    padding: 0;\n",
              "    width: 32px;\n",
              "  }\n",
              "\n",
              "  .colab-df-quickchart:hover {\n",
              "    background-color: var(--hover-bg-color);\n",
              "    box-shadow: 0 1px 2px rgba(60, 64, 67, 0.3), 0 1px 3px 1px rgba(60, 64, 67, 0.15);\n",
              "    fill: var(--button-hover-fill-color);\n",
              "  }\n",
              "\n",
              "  .colab-df-quickchart-complete:disabled,\n",
              "  .colab-df-quickchart-complete:disabled:hover {\n",
              "    background-color: var(--disabled-bg-color);\n",
              "    fill: var(--disabled-fill-color);\n",
              "    box-shadow: none;\n",
              "  }\n",
              "\n",
              "  .colab-df-spinner {\n",
              "    border: 2px solid var(--fill-color);\n",
              "    border-color: transparent;\n",
              "    border-bottom-color: var(--fill-color);\n",
              "    animation:\n",
              "      spin 1s steps(1) infinite;\n",
              "  }\n",
              "\n",
              "  @keyframes spin {\n",
              "    0% {\n",
              "      border-color: transparent;\n",
              "      border-bottom-color: var(--fill-color);\n",
              "      border-left-color: var(--fill-color);\n",
              "    }\n",
              "    20% {\n",
              "      border-color: transparent;\n",
              "      border-left-color: var(--fill-color);\n",
              "      border-top-color: var(--fill-color);\n",
              "    }\n",
              "    30% {\n",
              "      border-color: transparent;\n",
              "      border-left-color: var(--fill-color);\n",
              "      border-top-color: var(--fill-color);\n",
              "      border-right-color: var(--fill-color);\n",
              "    }\n",
              "    40% {\n",
              "      border-color: transparent;\n",
              "      border-right-color: var(--fill-color);\n",
              "      border-top-color: var(--fill-color);\n",
              "    }\n",
              "    60% {\n",
              "      border-color: transparent;\n",
              "      border-right-color: var(--fill-color);\n",
              "    }\n",
              "    80% {\n",
              "      border-color: transparent;\n",
              "      border-right-color: var(--fill-color);\n",
              "      border-bottom-color: var(--fill-color);\n",
              "    }\n",
              "    90% {\n",
              "      border-color: transparent;\n",
              "      border-bottom-color: var(--fill-color);\n",
              "    }\n",
              "  }\n",
              "</style>\n",
              "\n",
              "  <script>\n",
              "    async function quickchart(key) {\n",
              "      const quickchartButtonEl =\n",
              "        document.querySelector('#' + key + ' button');\n",
              "      quickchartButtonEl.disabled = true;  // To prevent multiple clicks.\n",
              "      quickchartButtonEl.classList.add('colab-df-spinner');\n",
              "      try {\n",
              "        const charts = await google.colab.kernel.invokeFunction(\n",
              "            'suggestCharts', [key], {});\n",
              "      } catch (error) {\n",
              "        console.error('Error during call to suggestCharts:', error);\n",
              "      }\n",
              "      quickchartButtonEl.classList.remove('colab-df-spinner');\n",
              "      quickchartButtonEl.classList.add('colab-df-quickchart-complete');\n",
              "    }\n",
              "    (() => {\n",
              "      let quickchartButtonEl =\n",
              "        document.querySelector('#df-ed1b185d-daae-4bbe-b983-e7441bf47b93 button');\n",
              "      quickchartButtonEl.style.display =\n",
              "        google.colab.kernel.accessAllowed ? 'block' : 'none';\n",
              "    })();\n",
              "  </script>\n",
              "</div>\n",
              "    </div>\n",
              "  </div>\n"
            ]
          },
          "metadata": {},
          "execution_count": 3
        }
      ],
      "source": [
        "df = pd.read_csv('/content/drive/MyDrive/face_emotion/Dataset/fer2013plusnew.csv')\n",
        "df.head()"
      ]
    },
    {
      "cell_type": "code",
      "execution_count": 4,
      "metadata": {
        "colab": {
          "base_uri": "https://localhost:8080/"
        },
        "id": "K0fZXl5PUV7j",
        "outputId": "200f9031-0b9e-4451-d4a7-dece4293dfc9"
      },
      "outputs": [
        {
          "output_type": "execute_result",
          "data": {
            "text/plain": [
              "6    12905\n",
              "3     9355\n",
              "5     4462\n",
              "4     4370\n",
              "0     3110\n",
              "2      819\n",
              "1      248\n",
              "7      216\n",
              "Name: emotion, dtype: int64"
            ]
          },
          "metadata": {},
          "execution_count": 4
        }
      ],
      "source": [
        "df['emotion'].value_counts()"
      ]
    },
    {
      "cell_type": "code",
      "execution_count": 5,
      "metadata": {
        "id": "JtG0FDn6UB6b",
        "colab": {
          "base_uri": "https://localhost:8080/",
          "height": 72
        },
        "outputId": "0a5eb0cd-aac7-4480-88de-80811612b99e"
      },
      "outputs": [
        {
          "output_type": "execute_result",
          "data": {
            "text/plain": [
              "\"\\n# mapping into positive, negative, neutral\\n# Create a dictionary to define the class mapping\\nclass_mapping = {\\n    3: 0,  # happiness (Positive)\\n    5: 0,  # surprise (Positive)\\n    6: 1,  # Neutral\\n    0: 2,  # anger (Negative)\\n    1: 2,  # disgust (Negative)\\n    2: 2,  # fear (Negative)\\n    4: 2,  # sadness (Negative)\\n    7: 2,  # contemp (Negative)\\n}\\n\\n# Map the 'emotion' column\\n#df['emotion'] = df['emotion'].map(class_mapping)\\n\""
            ],
            "application/vnd.google.colaboratory.intrinsic+json": {
              "type": "string"
            }
          },
          "metadata": {},
          "execution_count": 5
        }
      ],
      "source": [
        "\"\"\"\n",
        "# mapping into positive, negative, neutral\n",
        "# Create a dictionary to define the class mapping\n",
        "class_mapping = {\n",
        "    3: 0,  # happiness (Positive)\n",
        "    5: 0,  # surprise (Positive)\n",
        "    6: 1,  # Neutral\n",
        "    0: 2,  # anger (Negative)\n",
        "    1: 2,  # disgust (Negative)\n",
        "    2: 2,  # fear (Negative)\n",
        "    4: 2,  # sadness (Negative)\n",
        "    7: 2,  # contemp (Negative)\n",
        "}\n",
        "\n",
        "# Map the 'emotion' column\n",
        "#df['emotion'] = df['emotion'].map(class_mapping)\n",
        "\"\"\""
      ]
    },
    {
      "cell_type": "code",
      "execution_count": 6,
      "metadata": {
        "id": "zxO-JAr-Wcto",
        "colab": {
          "base_uri": "https://localhost:8080/",
          "height": 206
        },
        "outputId": "4b4acc06-129b-4bd9-9f04-e3b98e90068b"
      },
      "outputs": [
        {
          "output_type": "execute_result",
          "data": {
            "text/plain": [
              "   emotion                                             pixels     Usage\n",
              "0        0  30 24 21 23 25 25 49 67 84 103 120 125 130 139...  Training\n",
              "1        0  123 125 124 142 209 226 234 236 231 232 235 22...  Training\n",
              "2        0  236 230 225 226 228 209 199 193 196 211 199 19...  Training\n",
              "3        0  255 82 0 3 0 0 0 0 0 0 3 0 16 17 3 60 29 0 1 2...  Training\n",
              "4        0  206 208 209 212 214 216 216 219 221 222 222 22...  Training"
            ],
            "text/html": [
              "\n",
              "  <div id=\"df-ff960ef1-f39d-4632-9c50-f7cbb021b161\" class=\"colab-df-container\">\n",
              "    <div>\n",
              "<style scoped>\n",
              "    .dataframe tbody tr th:only-of-type {\n",
              "        vertical-align: middle;\n",
              "    }\n",
              "\n",
              "    .dataframe tbody tr th {\n",
              "        vertical-align: top;\n",
              "    }\n",
              "\n",
              "    .dataframe thead th {\n",
              "        text-align: right;\n",
              "    }\n",
              "</style>\n",
              "<table border=\"1\" class=\"dataframe\">\n",
              "  <thead>\n",
              "    <tr style=\"text-align: right;\">\n",
              "      <th></th>\n",
              "      <th>emotion</th>\n",
              "      <th>pixels</th>\n",
              "      <th>Usage</th>\n",
              "    </tr>\n",
              "  </thead>\n",
              "  <tbody>\n",
              "    <tr>\n",
              "      <th>0</th>\n",
              "      <td>0</td>\n",
              "      <td>30 24 21 23 25 25 49 67 84 103 120 125 130 139...</td>\n",
              "      <td>Training</td>\n",
              "    </tr>\n",
              "    <tr>\n",
              "      <th>1</th>\n",
              "      <td>0</td>\n",
              "      <td>123 125 124 142 209 226 234 236 231 232 235 22...</td>\n",
              "      <td>Training</td>\n",
              "    </tr>\n",
              "    <tr>\n",
              "      <th>2</th>\n",
              "      <td>0</td>\n",
              "      <td>236 230 225 226 228 209 199 193 196 211 199 19...</td>\n",
              "      <td>Training</td>\n",
              "    </tr>\n",
              "    <tr>\n",
              "      <th>3</th>\n",
              "      <td>0</td>\n",
              "      <td>255 82 0 3 0 0 0 0 0 0 3 0 16 17 3 60 29 0 1 2...</td>\n",
              "      <td>Training</td>\n",
              "    </tr>\n",
              "    <tr>\n",
              "      <th>4</th>\n",
              "      <td>0</td>\n",
              "      <td>206 208 209 212 214 216 216 219 221 222 222 22...</td>\n",
              "      <td>Training</td>\n",
              "    </tr>\n",
              "  </tbody>\n",
              "</table>\n",
              "</div>\n",
              "    <div class=\"colab-df-buttons\">\n",
              "\n",
              "  <div class=\"colab-df-container\">\n",
              "    <button class=\"colab-df-convert\" onclick=\"convertToInteractive('df-ff960ef1-f39d-4632-9c50-f7cbb021b161')\"\n",
              "            title=\"Convert this dataframe to an interactive table.\"\n",
              "            style=\"display:none;\">\n",
              "\n",
              "  <svg xmlns=\"http://www.w3.org/2000/svg\" height=\"24px\" viewBox=\"0 -960 960 960\">\n",
              "    <path d=\"M120-120v-720h720v720H120Zm60-500h600v-160H180v160Zm220 220h160v-160H400v160Zm0 220h160v-160H400v160ZM180-400h160v-160H180v160Zm440 0h160v-160H620v160ZM180-180h160v-160H180v160Zm440 0h160v-160H620v160Z\"/>\n",
              "  </svg>\n",
              "    </button>\n",
              "\n",
              "  <style>\n",
              "    .colab-df-container {\n",
              "      display:flex;\n",
              "      gap: 12px;\n",
              "    }\n",
              "\n",
              "    .colab-df-convert {\n",
              "      background-color: #E8F0FE;\n",
              "      border: none;\n",
              "      border-radius: 50%;\n",
              "      cursor: pointer;\n",
              "      display: none;\n",
              "      fill: #1967D2;\n",
              "      height: 32px;\n",
              "      padding: 0 0 0 0;\n",
              "      width: 32px;\n",
              "    }\n",
              "\n",
              "    .colab-df-convert:hover {\n",
              "      background-color: #E2EBFA;\n",
              "      box-shadow: 0px 1px 2px rgba(60, 64, 67, 0.3), 0px 1px 3px 1px rgba(60, 64, 67, 0.15);\n",
              "      fill: #174EA6;\n",
              "    }\n",
              "\n",
              "    .colab-df-buttons div {\n",
              "      margin-bottom: 4px;\n",
              "    }\n",
              "\n",
              "    [theme=dark] .colab-df-convert {\n",
              "      background-color: #3B4455;\n",
              "      fill: #D2E3FC;\n",
              "    }\n",
              "\n",
              "    [theme=dark] .colab-df-convert:hover {\n",
              "      background-color: #434B5C;\n",
              "      box-shadow: 0px 1px 3px 1px rgba(0, 0, 0, 0.15);\n",
              "      filter: drop-shadow(0px 1px 2px rgba(0, 0, 0, 0.3));\n",
              "      fill: #FFFFFF;\n",
              "    }\n",
              "  </style>\n",
              "\n",
              "    <script>\n",
              "      const buttonEl =\n",
              "        document.querySelector('#df-ff960ef1-f39d-4632-9c50-f7cbb021b161 button.colab-df-convert');\n",
              "      buttonEl.style.display =\n",
              "        google.colab.kernel.accessAllowed ? 'block' : 'none';\n",
              "\n",
              "      async function convertToInteractive(key) {\n",
              "        const element = document.querySelector('#df-ff960ef1-f39d-4632-9c50-f7cbb021b161');\n",
              "        const dataTable =\n",
              "          await google.colab.kernel.invokeFunction('convertToInteractive',\n",
              "                                                    [key], {});\n",
              "        if (!dataTable) return;\n",
              "\n",
              "        const docLinkHtml = 'Like what you see? Visit the ' +\n",
              "          '<a target=\"_blank\" href=https://colab.research.google.com/notebooks/data_table.ipynb>data table notebook</a>'\n",
              "          + ' to learn more about interactive tables.';\n",
              "        element.innerHTML = '';\n",
              "        dataTable['output_type'] = 'display_data';\n",
              "        await google.colab.output.renderOutput(dataTable, element);\n",
              "        const docLink = document.createElement('div');\n",
              "        docLink.innerHTML = docLinkHtml;\n",
              "        element.appendChild(docLink);\n",
              "      }\n",
              "    </script>\n",
              "  </div>\n",
              "\n",
              "\n",
              "<div id=\"df-cb4c7689-2866-4851-a2df-09bf540e0b32\">\n",
              "  <button class=\"colab-df-quickchart\" onclick=\"quickchart('df-cb4c7689-2866-4851-a2df-09bf540e0b32')\"\n",
              "            title=\"Suggest charts.\"\n",
              "            style=\"display:none;\">\n",
              "\n",
              "<svg xmlns=\"http://www.w3.org/2000/svg\" height=\"24px\"viewBox=\"0 0 24 24\"\n",
              "     width=\"24px\">\n",
              "    <g>\n",
              "        <path d=\"M19 3H5c-1.1 0-2 .9-2 2v14c0 1.1.9 2 2 2h14c1.1 0 2-.9 2-2V5c0-1.1-.9-2-2-2zM9 17H7v-7h2v7zm4 0h-2V7h2v10zm4 0h-2v-4h2v4z\"/>\n",
              "    </g>\n",
              "</svg>\n",
              "  </button>\n",
              "\n",
              "<style>\n",
              "  .colab-df-quickchart {\n",
              "      --bg-color: #E8F0FE;\n",
              "      --fill-color: #1967D2;\n",
              "      --hover-bg-color: #E2EBFA;\n",
              "      --hover-fill-color: #174EA6;\n",
              "      --disabled-fill-color: #AAA;\n",
              "      --disabled-bg-color: #DDD;\n",
              "  }\n",
              "\n",
              "  [theme=dark] .colab-df-quickchart {\n",
              "      --bg-color: #3B4455;\n",
              "      --fill-color: #D2E3FC;\n",
              "      --hover-bg-color: #434B5C;\n",
              "      --hover-fill-color: #FFFFFF;\n",
              "      --disabled-bg-color: #3B4455;\n",
              "      --disabled-fill-color: #666;\n",
              "  }\n",
              "\n",
              "  .colab-df-quickchart {\n",
              "    background-color: var(--bg-color);\n",
              "    border: none;\n",
              "    border-radius: 50%;\n",
              "    cursor: pointer;\n",
              "    display: none;\n",
              "    fill: var(--fill-color);\n",
              "    height: 32px;\n",
              "    padding: 0;\n",
              "    width: 32px;\n",
              "  }\n",
              "\n",
              "  .colab-df-quickchart:hover {\n",
              "    background-color: var(--hover-bg-color);\n",
              "    box-shadow: 0 1px 2px rgba(60, 64, 67, 0.3), 0 1px 3px 1px rgba(60, 64, 67, 0.15);\n",
              "    fill: var(--button-hover-fill-color);\n",
              "  }\n",
              "\n",
              "  .colab-df-quickchart-complete:disabled,\n",
              "  .colab-df-quickchart-complete:disabled:hover {\n",
              "    background-color: var(--disabled-bg-color);\n",
              "    fill: var(--disabled-fill-color);\n",
              "    box-shadow: none;\n",
              "  }\n",
              "\n",
              "  .colab-df-spinner {\n",
              "    border: 2px solid var(--fill-color);\n",
              "    border-color: transparent;\n",
              "    border-bottom-color: var(--fill-color);\n",
              "    animation:\n",
              "      spin 1s steps(1) infinite;\n",
              "  }\n",
              "\n",
              "  @keyframes spin {\n",
              "    0% {\n",
              "      border-color: transparent;\n",
              "      border-bottom-color: var(--fill-color);\n",
              "      border-left-color: var(--fill-color);\n",
              "    }\n",
              "    20% {\n",
              "      border-color: transparent;\n",
              "      border-left-color: var(--fill-color);\n",
              "      border-top-color: var(--fill-color);\n",
              "    }\n",
              "    30% {\n",
              "      border-color: transparent;\n",
              "      border-left-color: var(--fill-color);\n",
              "      border-top-color: var(--fill-color);\n",
              "      border-right-color: var(--fill-color);\n",
              "    }\n",
              "    40% {\n",
              "      border-color: transparent;\n",
              "      border-right-color: var(--fill-color);\n",
              "      border-top-color: var(--fill-color);\n",
              "    }\n",
              "    60% {\n",
              "      border-color: transparent;\n",
              "      border-right-color: var(--fill-color);\n",
              "    }\n",
              "    80% {\n",
              "      border-color: transparent;\n",
              "      border-right-color: var(--fill-color);\n",
              "      border-bottom-color: var(--fill-color);\n",
              "    }\n",
              "    90% {\n",
              "      border-color: transparent;\n",
              "      border-bottom-color: var(--fill-color);\n",
              "    }\n",
              "  }\n",
              "</style>\n",
              "\n",
              "  <script>\n",
              "    async function quickchart(key) {\n",
              "      const quickchartButtonEl =\n",
              "        document.querySelector('#' + key + ' button');\n",
              "      quickchartButtonEl.disabled = true;  // To prevent multiple clicks.\n",
              "      quickchartButtonEl.classList.add('colab-df-spinner');\n",
              "      try {\n",
              "        const charts = await google.colab.kernel.invokeFunction(\n",
              "            'suggestCharts', [key], {});\n",
              "      } catch (error) {\n",
              "        console.error('Error during call to suggestCharts:', error);\n",
              "      }\n",
              "      quickchartButtonEl.classList.remove('colab-df-spinner');\n",
              "      quickchartButtonEl.classList.add('colab-df-quickchart-complete');\n",
              "    }\n",
              "    (() => {\n",
              "      let quickchartButtonEl =\n",
              "        document.querySelector('#df-cb4c7689-2866-4851-a2df-09bf540e0b32 button');\n",
              "      quickchartButtonEl.style.display =\n",
              "        google.colab.kernel.accessAllowed ? 'block' : 'none';\n",
              "    })();\n",
              "  </script>\n",
              "</div>\n",
              "    </div>\n",
              "  </div>\n"
            ]
          },
          "metadata": {},
          "execution_count": 6
        }
      ],
      "source": [
        "df.head()"
      ]
    },
    {
      "cell_type": "code",
      "execution_count": 7,
      "metadata": {
        "colab": {
          "base_uri": "https://localhost:8080/"
        },
        "id": "WRvyWCA8WeY_",
        "outputId": "01ae5dba-031f-4b0d-d249-6eda0d877a89"
      },
      "outputs": [
        {
          "output_type": "execute_result",
          "data": {
            "text/plain": [
              "6    12905\n",
              "3     9355\n",
              "5     4462\n",
              "4     4370\n",
              "0     3110\n",
              "2      819\n",
              "1      248\n",
              "7      216\n",
              "Name: emotion, dtype: int64"
            ]
          },
          "metadata": {},
          "execution_count": 7
        }
      ],
      "source": [
        "df['emotion'].value_counts()"
      ]
    },
    {
      "cell_type": "code",
      "execution_count": 8,
      "metadata": {
        "id": "-DzXtCVSWqQx"
      },
      "outputs": [],
      "source": [
        "#df.to_csv('fer2013plusnew_3class.csv', index=False)"
      ]
    },
    {
      "cell_type": "code",
      "execution_count": 6,
      "metadata": {
        "id": "-BvIfnEFTvyX"
      },
      "outputs": [],
      "source": [
        "label_to_text = {0:'anger', 1:'disgust', 2:'fear', 3:'happiness', 4: 'sadness', 5: 'surprise', 6: 'neutral', 7: 'contempt'}  #original\n",
        "#label_to_text = {0:'positive', 1:'neutral', 2:'negative'}  #edit"
      ]
    },
    {
      "cell_type": "code",
      "execution_count": 7,
      "metadata": {
        "id": "SwgQ2mbVTvyY"
      },
      "outputs": [],
      "source": [
        "img_array = df['pixels'].apply(lambda x: np.array(x.split(\" \")).reshape(48,48,1).astype('float32'))\n",
        "img_array = np.stack(img_array, axis=0)\n",
        "labels = df.emotion.values"
      ]
    },
    {
      "cell_type": "code",
      "execution_count": 8,
      "metadata": {
        "colab": {
          "base_uri": "https://localhost:8080/"
        },
        "id": "WMW8gmKgTvyY",
        "outputId": "2aad2821-3946-413c-f291-8a6569f5f65c"
      },
      "outputs": [
        {
          "output_type": "execute_result",
          "data": {
            "text/plain": [
              "(35485, 48, 48, 1)"
            ]
          },
          "metadata": {},
          "execution_count": 8
        }
      ],
      "source": [
        "img_array.shape"
      ]
    },
    {
      "cell_type": "code",
      "execution_count": 9,
      "metadata": {
        "id": "oYW93jJpTvyZ"
      },
      "outputs": [],
      "source": [
        "X_train, X_test, y_train, y_test = train_test_split(img_array, labels, test_size= .2, random_state=42, stratify=labels)\n",
        "#X_train, X_temp, y_train, y_temp = train_test_split(img_array, labels, test_size=0.4, random_state=42, stratify=labels)\n",
        "#X_val, X_test, y_val, y_test = train_test_split(X_temp, y_temp, test_size=0.5, random_state=42, stratify=y_temp)\n"
      ]
    },
    {
      "cell_type": "code",
      "execution_count": 10,
      "metadata": {
        "colab": {
          "base_uri": "https://localhost:8080/"
        },
        "id": "rNpjiPATTvyZ",
        "outputId": "7237e985-5250-44a3-b423-9d79095dbb18"
      },
      "outputs": [
        {
          "output_type": "execute_result",
          "data": {
            "text/plain": [
              "((28388, 48, 48, 1), (28388,), (7097, 48, 48, 1), (7097,))"
            ]
          },
          "metadata": {},
          "execution_count": 10
        }
      ],
      "source": [
        "#X_train.shape, y_train.shape, X_val.shape, y_val.shape, X_test.shape, y_test.shape\n",
        "X_train.shape, y_train.shape, X_test.shape, y_test.shape"
      ]
    },
    {
      "cell_type": "code",
      "execution_count": 11,
      "metadata": {
        "id": "Z29Qd-J_Tvya"
      },
      "outputs": [],
      "source": [
        "X_train = X_train/255\n",
        "#X_val = X_test/255\n",
        "X_test = X_test/255"
      ]
    },
    {
      "cell_type": "code",
      "execution_count": 12,
      "metadata": {
        "id": "j6w-XsS_Tvyb",
        "colab": {
          "base_uri": "https://localhost:8080/",
          "height": 127
        },
        "outputId": "49897a97-9a0e-4b52-8851-5641a2601b91"
      },
      "outputs": [
        {
          "output_type": "execute_result",
          "data": {
            "text/plain": [
              "\"\\n# Define the ImageDataGenerator for data augmentation for training data\\ntrain_datagen = tf.keras.preprocessing.image.ImageDataGenerator(\\n    rotation_range=20,\\n    width_shift_range=0.2,\\n    height_shift_range=0.2,\\n    horizontal_flip=True,\\n    zoom_range=0.2,\\n    shear_range=0.2,\\n    fill_mode='nearest'\\n)\\n\\n# Create a generator for training data\\ntrain_generator = train_datagen.flow(X_train, y_train, \\n                                     batch_size=batch_size)\\n\\n# Define a separate ImageDataGenerator for val and test data (no data augmentation)\\ndatagen = tf.keras.preprocessing.image.ImageDataGenerator()\\nval_generator = datagen.flow(X_val, y_val, \\n                                    batch_size=batch_size)\\ntest_generator = datagen.flow(X_test, y_test, \\n                              batch_size=batch_size)\\n                              \\n\""
            ],
            "application/vnd.google.colaboratory.intrinsic+json": {
              "type": "string"
            }
          },
          "metadata": {},
          "execution_count": 12
        }
      ],
      "source": [
        "batch_size = 16\n",
        "\"\"\"\n",
        "# Define the ImageDataGenerator for data augmentation for training data\n",
        "train_datagen = tf.keras.preprocessing.image.ImageDataGenerator(\n",
        "    rotation_range=20,\n",
        "    width_shift_range=0.2,\n",
        "    height_shift_range=0.2,\n",
        "    horizontal_flip=True,\n",
        "    zoom_range=0.2,\n",
        "    shear_range=0.2,\n",
        "    fill_mode='nearest'\n",
        ")\n",
        "\n",
        "# Create a generator for training data\n",
        "train_generator = train_datagen.flow(X_train, y_train,\n",
        "                                     batch_size=batch_size)\n",
        "\n",
        "# Define a separate ImageDataGenerator for val and test data (no data augmentation)\n",
        "datagen = tf.keras.preprocessing.image.ImageDataGenerator()\n",
        "val_generator = datagen.flow(X_val, y_val,\n",
        "                                    batch_size=batch_size)\n",
        "test_generator = datagen.flow(X_test, y_test,\n",
        "                              batch_size=batch_size)\n",
        "\n",
        "\"\"\""
      ]
    },
    {
      "cell_type": "code",
      "execution_count": 13,
      "metadata": {
        "id": "-VFosBnlTvyb"
      },
      "outputs": [],
      "source": [
        "num_classes = 8\n",
        "\n",
        "basemodel = tf.keras.models.Sequential([\n",
        "    tf.keras.layers.Conv2D(64, (3, 3), activation='relu', input_shape=(48, 48, 1)),\n",
        "    tf.keras.layers.MaxPool2D(2, 2),\n",
        "\n",
        "    tf.keras.layers.Conv2D(128, (3, 3), activation='relu'),\n",
        "    tf.keras.layers.MaxPool2D(2, 2),\n",
        "\n",
        "    tf.keras.layers.Conv2D(256, (3, 3), activation='relu'),\n",
        "    tf.keras.layers.MaxPool2D(2, 2),\n",
        "\n",
        "    tf.keras.layers.Flatten(),\n",
        "\n",
        "    tf.keras.layers.Dense(256, activation='relu'),\n",
        "    tf.keras.layers.Dropout(0.5),  # Add dropout for regularization\n",
        "\n",
        "    tf.keras.layers.Dense(128, activation='relu'),\n",
        "    tf.keras.layers.Dropout(0.5),  # Add dropout for regularization\n",
        "\n",
        "    tf.keras.layers.Dense(num_classes, activation='softmax')\n",
        "])"
      ]
    },
    {
      "cell_type": "code",
      "execution_count": 14,
      "metadata": {
        "colab": {
          "base_uri": "https://localhost:8080/"
        },
        "id": "c5VkVVEDTvyc",
        "outputId": "a40a4799-7982-4766-dd6e-85a6846aaaba"
      },
      "outputs": [
        {
          "output_type": "stream",
          "name": "stdout",
          "text": [
            "Model: \"sequential\"\n",
            "_________________________________________________________________\n",
            " Layer (type)                Output Shape              Param #   \n",
            "=================================================================\n",
            " conv2d (Conv2D)             (None, 46, 46, 64)        640       \n",
            "                                                                 \n",
            " max_pooling2d (MaxPooling2  (None, 23, 23, 64)        0         \n",
            " D)                                                              \n",
            "                                                                 \n",
            " conv2d_1 (Conv2D)           (None, 21, 21, 128)       73856     \n",
            "                                                                 \n",
            " max_pooling2d_1 (MaxPoolin  (None, 10, 10, 128)       0         \n",
            " g2D)                                                            \n",
            "                                                                 \n",
            " conv2d_2 (Conv2D)           (None, 8, 8, 256)         295168    \n",
            "                                                                 \n",
            " max_pooling2d_2 (MaxPoolin  (None, 4, 4, 256)         0         \n",
            " g2D)                                                            \n",
            "                                                                 \n",
            " flatten (Flatten)           (None, 4096)              0         \n",
            "                                                                 \n",
            " dense (Dense)               (None, 256)               1048832   \n",
            "                                                                 \n",
            " dropout (Dropout)           (None, 256)               0         \n",
            "                                                                 \n",
            " dense_1 (Dense)             (None, 128)               32896     \n",
            "                                                                 \n",
            " dropout_1 (Dropout)         (None, 128)               0         \n",
            "                                                                 \n",
            " dense_2 (Dense)             (None, 8)                 1032      \n",
            "                                                                 \n",
            "=================================================================\n",
            "Total params: 1452424 (5.54 MB)\n",
            "Trainable params: 1452424 (5.54 MB)\n",
            "Non-trainable params: 0 (0.00 Byte)\n",
            "_________________________________________________________________\n"
          ]
        }
      ],
      "source": [
        "basemodel.summary()"
      ]
    },
    {
      "cell_type": "code",
      "execution_count": 15,
      "metadata": {
        "id": "kbVuJ3S_Tvyc"
      },
      "outputs": [],
      "source": [
        "initial_learning_rate = 0.0001  # You can adjust this value\n",
        "#optimizer = tf.keras.optimizers.RMSprop(learning_rate=initial_learning_rate)\n",
        "optimizer=tf.keras.optimizers.Adam(learning_rate=initial_learning_rate)\n",
        "basemodel.compile(optimizer=optimizer,\n",
        "                loss='sparse_categorical_crossentropy',\n",
        "                metrics=['accuracy'])"
      ]
    },
    {
      "cell_type": "code",
      "execution_count": 16,
      "metadata": {
        "id": "ydWj3uHeTvyc"
      },
      "outputs": [],
      "source": [
        "def lr_schedule(epoch):\n",
        "    if epoch < 10:\n",
        "        return initial_learning_rate\n",
        "    else:\n",
        "        return initial_learning_rate * 0.1"
      ]
    },
    {
      "cell_type": "code",
      "execution_count": 17,
      "metadata": {
        "id": "u_VE_NVBTvyd"
      },
      "outputs": [],
      "source": [
        "# Define early stopping\n",
        "early_stopping = tf.keras.callbacks.EarlyStopping(\n",
        "    monitor='val_accuracy',\n",
        "    patience=10,\n",
        "    restore_best_weights=True\n",
        ")"
      ]
    },
    {
      "cell_type": "code",
      "execution_count": 18,
      "metadata": {
        "id": "9hmcZe2iTvyd"
      },
      "outputs": [],
      "source": [
        "file_name = 'best_model.h5'\n",
        "checkpoint_path= os.path.join('checkpoint',file_name)\n",
        "\n",
        "\n",
        "call_back = [\n",
        "    tf.keras.callbacks.ModelCheckpoint(filepath=checkpoint_path,\n",
        "                                        monitor='val_accuracy',\n",
        "                                        verbose=1,\n",
        "                                        save_freq='epoch',\n",
        "                                        save_best_only=True,\n",
        "                                        save_weights_only=False,\n",
        "                                        mode='max'),\n",
        "    tf.keras.callbacks.EarlyStopping(\n",
        "        monitor='val_loss',\n",
        "        patience=10,\n",
        "        restore_best_weights=True\n",
        "    ),\n",
        "    #tf.keras.callbacks.LearningRateScheduler(lr_schedule)\n",
        "    tf.keras.callbacks.ReduceLROnPlateau(monitor='val_accuracy', patience=5,\n",
        "                                  verbose=1,factor=0.2, min_lr=0.000001)\n",
        "]"
      ]
    },
    {
      "cell_type": "code",
      "execution_count": 19,
      "metadata": {
        "colab": {
          "base_uri": "https://localhost:8080/"
        },
        "id": "939u-CKATvyd",
        "outputId": "26811c85-21e1-482a-d2cc-752b8bcbfa9f"
      },
      "outputs": [
        {
          "output_type": "stream",
          "name": "stdout",
          "text": [
            "Epoch 1/100\n",
            "1420/1420 [==============================] - ETA: 0s - loss: 1.6685 - accuracy: 0.3490\n",
            "Epoch 1: val_accuracy improved from -inf to 0.38429, saving model to checkpoint/best_model.h5\n",
            "1420/1420 [==============================] - 22s 7ms/step - loss: 1.6685 - accuracy: 0.3490 - val_loss: 1.5765 - val_accuracy: 0.3843 - lr: 1.0000e-04\n",
            "Epoch 2/100\n",
            "  22/1420 [..............................] - ETA: 6s - loss: 1.5728 - accuracy: 0.3949"
          ]
        },
        {
          "output_type": "stream",
          "name": "stderr",
          "text": [
            "/usr/local/lib/python3.10/dist-packages/keras/src/engine/training.py:3079: UserWarning: You are saving your model as an HDF5 file via `model.save()`. This file format is considered legacy. We recommend using instead the native Keras format, e.g. `model.save('my_model.keras')`.\n",
            "  saving_api.save_model(\n"
          ]
        },
        {
          "output_type": "stream",
          "name": "stdout",
          "text": [
            "1417/1420 [============================>.] - ETA: 0s - loss: 1.4846 - accuracy: 0.4541\n",
            "Epoch 2: val_accuracy improved from 0.38429 to 0.54826, saving model to checkpoint/best_model.h5\n",
            "1420/1420 [==============================] - 9s 6ms/step - loss: 1.4842 - accuracy: 0.4543 - val_loss: 1.2981 - val_accuracy: 0.5483 - lr: 1.0000e-04\n",
            "Epoch 3/100\n",
            "1413/1420 [============================>.] - ETA: 0s - loss: 1.2978 - accuracy: 0.5562\n",
            "Epoch 3: val_accuracy improved from 0.54826 to 0.60092, saving model to checkpoint/best_model.h5\n",
            "1420/1420 [==============================] - 10s 7ms/step - loss: 1.2969 - accuracy: 0.5565 - val_loss: 1.1551 - val_accuracy: 0.6009 - lr: 1.0000e-04\n",
            "Epoch 4/100\n",
            "1418/1420 [============================>.] - ETA: 0s - loss: 1.1810 - accuracy: 0.5982\n",
            "Epoch 4: val_accuracy improved from 0.60092 to 0.63473, saving model to checkpoint/best_model.h5\n",
            "1420/1420 [==============================] - 10s 7ms/step - loss: 1.1809 - accuracy: 0.5981 - val_loss: 1.0572 - val_accuracy: 0.6347 - lr: 1.0000e-04\n",
            "Epoch 5/100\n",
            "1414/1420 [============================>.] - ETA: 0s - loss: 1.0977 - accuracy: 0.6262\n",
            "Epoch 5: val_accuracy improved from 0.63473 to 0.65358, saving model to checkpoint/best_model.h5\n",
            "1420/1420 [==============================] - 10s 7ms/step - loss: 1.0976 - accuracy: 0.6262 - val_loss: 1.0095 - val_accuracy: 0.6536 - lr: 1.0000e-04\n",
            "Epoch 6/100\n",
            "1419/1420 [============================>.] - ETA: 0s - loss: 1.0286 - accuracy: 0.6494\n",
            "Epoch 6: val_accuracy improved from 0.65358 to 0.66538, saving model to checkpoint/best_model.h5\n",
            "1420/1420 [==============================] - 8s 6ms/step - loss: 1.0285 - accuracy: 0.6494 - val_loss: 0.9495 - val_accuracy: 0.6654 - lr: 1.0000e-04\n",
            "Epoch 7/100\n",
            "1420/1420 [==============================] - ETA: 0s - loss: 0.9711 - accuracy: 0.6681\n",
            "Epoch 7: val_accuracy improved from 0.66538 to 0.68933, saving model to checkpoint/best_model.h5\n",
            "1420/1420 [==============================] - 10s 7ms/step - loss: 0.9711 - accuracy: 0.6681 - val_loss: 0.8965 - val_accuracy: 0.6893 - lr: 1.0000e-04\n",
            "Epoch 8/100\n",
            "1418/1420 [============================>.] - ETA: 0s - loss: 0.9197 - accuracy: 0.6844\n",
            "Epoch 8: val_accuracy improved from 0.68933 to 0.69320, saving model to checkpoint/best_model.h5\n",
            "1420/1420 [==============================] - 9s 7ms/step - loss: 0.9199 - accuracy: 0.6843 - val_loss: 0.8783 - val_accuracy: 0.6932 - lr: 1.0000e-04\n",
            "Epoch 9/100\n",
            "1420/1420 [==============================] - ETA: 0s - loss: 0.8701 - accuracy: 0.7005\n",
            "Epoch 9: val_accuracy improved from 0.69320 to 0.70412, saving model to checkpoint/best_model.h5\n",
            "1420/1420 [==============================] - 9s 6ms/step - loss: 0.8701 - accuracy: 0.7005 - val_loss: 0.8397 - val_accuracy: 0.7041 - lr: 1.0000e-04\n",
            "Epoch 10/100\n",
            "1414/1420 [============================>.] - ETA: 0s - loss: 0.8311 - accuracy: 0.7142\n",
            "Epoch 10: val_accuracy did not improve from 0.70412\n",
            "1420/1420 [==============================] - 9s 7ms/step - loss: 0.8317 - accuracy: 0.7139 - val_loss: 0.8715 - val_accuracy: 0.6923 - lr: 1.0000e-04\n",
            "Epoch 11/100\n",
            "1414/1420 [============================>.] - ETA: 0s - loss: 0.7896 - accuracy: 0.7310\n",
            "Epoch 11: val_accuracy improved from 0.70412 to 0.71381, saving model to checkpoint/best_model.h5\n",
            "1420/1420 [==============================] - 9s 7ms/step - loss: 0.7893 - accuracy: 0.7310 - val_loss: 0.8094 - val_accuracy: 0.7138 - lr: 1.0000e-04\n",
            "Epoch 12/100\n",
            "1418/1420 [============================>.] - ETA: 0s - loss: 0.7480 - accuracy: 0.7397\n",
            "Epoch 12: val_accuracy improved from 0.71381 to 0.71839, saving model to checkpoint/best_model.h5\n",
            "1420/1420 [==============================] - 8s 6ms/step - loss: 0.7482 - accuracy: 0.7396 - val_loss: 0.7973 - val_accuracy: 0.7184 - lr: 1.0000e-04\n",
            "Epoch 13/100\n",
            "1417/1420 [============================>.] - ETA: 0s - loss: 0.7120 - accuracy: 0.7543\n",
            "Epoch 13: val_accuracy improved from 0.71839 to 0.72790, saving model to checkpoint/best_model.h5\n",
            "1420/1420 [==============================] - 10s 7ms/step - loss: 0.7119 - accuracy: 0.7544 - val_loss: 0.7746 - val_accuracy: 0.7279 - lr: 1.0000e-04\n",
            "Epoch 14/100\n",
            "1416/1420 [============================>.] - ETA: 0s - loss: 0.6778 - accuracy: 0.7674\n",
            "Epoch 14: val_accuracy did not improve from 0.72790\n",
            "1420/1420 [==============================] - 9s 6ms/step - loss: 0.6774 - accuracy: 0.7676 - val_loss: 0.7882 - val_accuracy: 0.7193 - lr: 1.0000e-04\n",
            "Epoch 15/100\n",
            "1418/1420 [============================>.] - ETA: 0s - loss: 0.6329 - accuracy: 0.7799\n",
            "Epoch 15: val_accuracy did not improve from 0.72790\n",
            "1420/1420 [==============================] - 9s 6ms/step - loss: 0.6327 - accuracy: 0.7800 - val_loss: 0.7756 - val_accuracy: 0.7263 - lr: 1.0000e-04\n",
            "Epoch 16/100\n",
            "1412/1420 [============================>.] - ETA: 0s - loss: 0.5994 - accuracy: 0.7920\n",
            "Epoch 16: val_accuracy did not improve from 0.72790\n",
            "1420/1420 [==============================] - 9s 6ms/step - loss: 0.6001 - accuracy: 0.7919 - val_loss: 0.7725 - val_accuracy: 0.7268 - lr: 1.0000e-04\n",
            "Epoch 17/100\n",
            "1418/1420 [============================>.] - ETA: 0s - loss: 0.5658 - accuracy: 0.8022\n",
            "Epoch 17: val_accuracy improved from 0.72790 to 0.73424, saving model to checkpoint/best_model.h5\n",
            "1420/1420 [==============================] - 9s 6ms/step - loss: 0.5656 - accuracy: 0.8022 - val_loss: 0.7775 - val_accuracy: 0.7342 - lr: 1.0000e-04\n",
            "Epoch 18/100\n",
            "1415/1420 [============================>.] - ETA: 0s - loss: 0.5340 - accuracy: 0.8165\n",
            "Epoch 18: val_accuracy did not improve from 0.73424\n",
            "1420/1420 [==============================] - 8s 6ms/step - loss: 0.5343 - accuracy: 0.8165 - val_loss: 0.7899 - val_accuracy: 0.7339 - lr: 1.0000e-04\n",
            "Epoch 19/100\n",
            "1415/1420 [============================>.] - ETA: 0s - loss: 0.5003 - accuracy: 0.8267\n",
            "Epoch 19: val_accuracy did not improve from 0.73424\n",
            "1420/1420 [==============================] - 10s 7ms/step - loss: 0.5000 - accuracy: 0.8267 - val_loss: 0.7844 - val_accuracy: 0.7332 - lr: 1.0000e-04\n",
            "Epoch 20/100\n",
            "1415/1420 [============================>.] - ETA: 0s - loss: 0.4707 - accuracy: 0.8381\n",
            "Epoch 20: val_accuracy improved from 0.73424 to 0.73776, saving model to checkpoint/best_model.h5\n",
            "1420/1420 [==============================] - 9s 6ms/step - loss: 0.4708 - accuracy: 0.8380 - val_loss: 0.7917 - val_accuracy: 0.7378 - lr: 1.0000e-04\n",
            "Epoch 21/100\n",
            "1411/1420 [============================>.] - ETA: 0s - loss: 0.4318 - accuracy: 0.8526\n",
            "Epoch 21: val_accuracy improved from 0.73776 to 0.74005, saving model to checkpoint/best_model.h5\n",
            "1420/1420 [==============================] - 9s 6ms/step - loss: 0.4319 - accuracy: 0.8525 - val_loss: 0.7989 - val_accuracy: 0.7400 - lr: 1.0000e-04\n",
            "Epoch 22/100\n",
            "1417/1420 [============================>.] - ETA: 0s - loss: 0.4031 - accuracy: 0.8614\n",
            "Epoch 22: val_accuracy improved from 0.74005 to 0.74040, saving model to checkpoint/best_model.h5\n",
            "1420/1420 [==============================] - 9s 7ms/step - loss: 0.4029 - accuracy: 0.8615 - val_loss: 0.8419 - val_accuracy: 0.7404 - lr: 1.0000e-04\n",
            "Epoch 23/100\n",
            "1419/1420 [============================>.] - ETA: 0s - loss: 0.3787 - accuracy: 0.8672\n",
            "Epoch 23: val_accuracy did not improve from 0.74040\n",
            "1420/1420 [==============================] - 9s 6ms/step - loss: 0.3787 - accuracy: 0.8672 - val_loss: 0.8234 - val_accuracy: 0.7362 - lr: 1.0000e-04\n",
            "Epoch 24/100\n",
            "1414/1420 [============================>.] - ETA: 0s - loss: 0.3482 - accuracy: 0.8773\n",
            "Epoch 24: val_accuracy did not improve from 0.74040\n",
            "1420/1420 [==============================] - 8s 6ms/step - loss: 0.3480 - accuracy: 0.8773 - val_loss: 0.8869 - val_accuracy: 0.7397 - lr: 1.0000e-04\n",
            "Epoch 25/100\n",
            "1413/1420 [============================>.] - ETA: 0s - loss: 0.3155 - accuracy: 0.8884\n",
            "Epoch 25: val_accuracy improved from 0.74040 to 0.74410, saving model to checkpoint/best_model.h5\n",
            "1420/1420 [==============================] - 9s 6ms/step - loss: 0.3156 - accuracy: 0.8882 - val_loss: 0.9049 - val_accuracy: 0.7441 - lr: 1.0000e-04\n",
            "Epoch 26/100\n",
            "1419/1420 [============================>.] - ETA: 0s - loss: 0.2941 - accuracy: 0.8964\n",
            "Epoch 26: val_accuracy did not improve from 0.74410\n",
            "1420/1420 [==============================] - 9s 6ms/step - loss: 0.2942 - accuracy: 0.8963 - val_loss: 0.9171 - val_accuracy: 0.7413 - lr: 1.0000e-04\n"
          ]
        }
      ],
      "source": [
        "#history = basemodel.fit(train_generator,\n",
        "#                        epochs=100,\n",
        "#                        validation_data=val_generator,\n",
        "#                        callbacks=call_back)\n",
        "\n",
        "history = basemodel.fit(X_train, y_train,\n",
        "                        epochs=100,\n",
        "                        batch_size=batch_size,\n",
        "                        validation_split=.2,\n",
        "                        callbacks=call_back)"
      ]
    },
    {
      "cell_type": "code",
      "execution_count": 20,
      "metadata": {
        "colab": {
          "base_uri": "https://localhost:8080/",
          "height": 448
        },
        "id": "A0Q5NREdTvyd",
        "outputId": "2fdd4e09-8eeb-4e6a-9e74-e1398f0bbc58"
      },
      "outputs": [
        {
          "output_type": "execute_result",
          "data": {
            "text/plain": [
              "<matplotlib.legend.Legend at 0x794d921e6b90>"
            ]
          },
          "metadata": {},
          "execution_count": 20
        },
        {
          "output_type": "display_data",
          "data": {
            "text/plain": [
              "<Figure size 640x480 with 1 Axes>"
            ],
            "image/png": "[encoded data removed]"
          },
          "metadata": {}
        }
      ],
      "source": [
        "# Plot loss per iteration\n",
        "import matplotlib.pyplot as plt\n",
        "plt.plot(history.history['loss'], label='loss')\n",
        "plt.plot(history.history['val_loss'], label='val_loss')\n",
        "plt.legend()"
      ]
    },
    {
      "cell_type": "code",
      "execution_count": 21,
      "metadata": {
        "colab": {
          "base_uri": "https://localhost:8080/",
          "height": 448
        },
        "id": "YBHwmcxlTvye",
        "outputId": "f0ed140c-c8ef-497a-bcf5-904c95aefe77"
      },
      "outputs": [
        {
          "output_type": "execute_result",
          "data": {
            "text/plain": [
              "<matplotlib.legend.Legend at 0x794d904862c0>"
            ]
          },
          "metadata": {},
          "execution_count": 21
        },
        {
          "output_type": "display_data",
          "data": {
            "text/plain": [
              "<Figure size 640x480 with 1 Axes>"
            ],
            "image/png": "[encoded data removed]"
          },
          "metadata": {}
        }
      ],
      "source": [
        "# Plot accuracy per iteration\n",
        "plt.plot(history.history['accuracy'], label='acc')\n",
        "plt.plot(history.history['val_accuracy'], label='val_acc')\n",
        "plt.legend()"
      ]
    },
    {
      "cell_type": "code",
      "execution_count": 22,
      "metadata": {
        "colab": {
          "base_uri": "https://localhost:8080/",
          "height": 1000
        },
        "id": "HITqeIZlTvye",
        "outputId": "7ac025f5-5d30-4c52-a859-c9bc73fc5b7b"
      },
      "outputs": [
        {
          "output_type": "stream",
          "name": "stdout",
          "text": [
            "222/222 [==============================] - 1s 3ms/step\n",
            "              precision    recall  f1-score   support\n",
            "\n",
            "       anger     0.6485    0.5932    0.6196       622\n",
            "     disgust     0.0000    0.0000    0.0000        50\n",
            "        fear     0.6304    0.1768    0.2762       164\n",
            "   happiness     0.8319    0.8119    0.8217      1871\n",
            "     sadness     0.6093    0.3284    0.4268       874\n",
            "    surprise     0.7269    0.8117    0.7669       892\n",
            "     neutral     0.6965    0.8605    0.7698      2581\n",
            "    contempt     0.0000    0.0000    0.0000        43\n",
            "\n",
            "    accuracy                         0.7255      7097\n",
            "   macro avg     0.5179    0.4478    0.4601      7097\n",
            "weighted avg     0.7104    0.7255    0.7063      7097\n",
            "\n",
            "Confusion matrix, without normalization\n",
            "[[ 369    0    0   35   24   43  151    0]\n",
            " [  18    0    0    2   11    0   19    0]\n",
            " [   5    0   29   20    2   84   24    0]\n",
            " [  59    0    1 1519   31   43  218    0]\n",
            " [  44    0    5   82  287   34  422    0]\n",
            " [  17    0    2   44    7  724   98    0]\n",
            " [  56    0    9  122  108   65 2221    0]\n",
            " [   1    0    0    2    1    3   36    0]]\n"
          ]
        },
        {
          "output_type": "stream",
          "name": "stderr",
          "text": [
            "/usr/local/lib/python3.10/dist-packages/sklearn/metrics/_classification.py:1344: UndefinedMetricWarning: Precision and F-score are ill-defined and being set to 0.0 in labels with no predicted samples. Use `zero_division` parameter to control this behavior.\n",
            "  _warn_prf(average, modifier, msg_start, len(result))\n",
            "/usr/local/lib/python3.10/dist-packages/sklearn/metrics/_classification.py:1344: UndefinedMetricWarning: Precision and F-score are ill-defined and being set to 0.0 in labels with no predicted samples. Use `zero_division` parameter to control this behavior.\n",
            "  _warn_prf(average, modifier, msg_start, len(result))\n",
            "/usr/local/lib/python3.10/dist-packages/sklearn/metrics/_classification.py:1344: UndefinedMetricWarning: Precision and F-score are ill-defined and being set to 0.0 in labels with no predicted samples. Use `zero_division` parameter to control this behavior.\n",
            "  _warn_prf(average, modifier, msg_start, len(result))\n"
          ]
        },
        {
          "output_type": "display_data",
          "data": {
            "text/plain": [
              "<Figure size 640x480 with 2 Axes>"
            ],
            "image/png": "[encoded data removed]"
          },
          "metadata": {}
        }
      ],
      "source": [
        "# Plot confusion matrix\n",
        "from sklearn.metrics import confusion_matrix, classification_report\n",
        "import itertools\n",
        "\n",
        "def plot_confusion_matrix(cm, classes,\n",
        "                          normalize=False,\n",
        "                          title='Confusion matrix',\n",
        "                          cmap=plt.cm.Blues):\n",
        "  \"\"\"\n",
        "  This function prints and plots the confusion matrix.\n",
        "  Normalization can be applied by setting `normalize=True`.\n",
        "  \"\"\"\n",
        "  if normalize:\n",
        "      cm = cm.astype('float') / cm.sum(axis=1)[:, np.newaxis]\n",
        "      print(\"Normalized confusion matrix\")\n",
        "  else:\n",
        "      print('Confusion matrix, without normalization')\n",
        "\n",
        "  print(cm)\n",
        "\n",
        "  plt.imshow(cm, interpolation='nearest', cmap=cmap)\n",
        "  plt.title(title)\n",
        "  plt.colorbar()\n",
        "  tick_marks = np.arange(len(classes))\n",
        "  plt.xticks(tick_marks, classes, rotation=45)\n",
        "  plt.yticks(tick_marks, classes)\n",
        "\n",
        "  fmt = '.2f' if normalize else 'd'\n",
        "  thresh = cm.max() / 2.\n",
        "  for i, j in itertools.product(range(cm.shape[0]), range(cm.shape[1])):\n",
        "      plt.text(j, i, format(cm[i, j], fmt),\n",
        "               horizontalalignment=\"center\",\n",
        "               color=\"white\" if cm[i, j] > thresh else \"black\")\n",
        "\n",
        "  plt.tight_layout()\n",
        "  plt.ylabel('True label')\n",
        "  plt.xlabel('Predicted label')\n",
        "  plt.show()\n",
        "\n",
        "#label_to_text = {0:'positive', 1:'neutral', 2:'negative'}\n",
        "label_to_text = {0:'anger', 1:'disgust', 2:'fear', 3:'happiness', 4: 'sadness', 5: 'surprise', 6: 'neutral', 7:'contempt'}  #original\n",
        "\n",
        "\n",
        "p_test = basemodel.predict(X_test).argmax(axis=1)\n",
        "cm = confusion_matrix(y_test, p_test)\n",
        "cr = classification_report(y_test, p_test, target_names=['anger', 'disgust', 'fear', 'happiness', 'sadness', 'surprise', 'neutral', 'contempt'], digits=4)\n",
        "print(cr)\n",
        "plot_confusion_matrix(cm, list(label_to_text.values()))"
      ]
    },
    {
      "cell_type": "code",
      "execution_count": 23,
      "metadata": {
        "colab": {
          "base_uri": "https://localhost:8080/",
          "height": 36
        },
        "id": "UICrS3EXTvye",
        "outputId": "0f054971-4541-4913-acfa-c412150f7f64"
      },
      "outputs": [
        {
          "output_type": "execute_result",
          "data": {
            "text/plain": [
              "'checkpoint/best_model.h5'"
            ],
            "application/vnd.google.colaboratory.intrinsic+json": {
              "type": "string"
            }
          },
          "metadata": {},
          "execution_count": 23
        }
      ],
      "source": [
        "checkpoint_path"
      ]
    },
    {
      "cell_type": "code",
      "execution_count": 24,
      "metadata": {
        "colab": {
          "base_uri": "https://localhost:8080/",
          "height": 486
        },
        "id": "v2jgIdIxTvyf",
        "outputId": "ae94e080-45ee-42a8-f500-a4bb94f56133"
      },
      "outputs": [
        {
          "output_type": "stream",
          "name": "stdout",
          "text": [
            "actual label is sadness\n",
            "1/1 [==============================] - 0s 19ms/step\n",
            "predicted label is sadness\n"
          ]
        },
        {
          "output_type": "display_data",
          "data": {
            "text/plain": [
              "<Figure size 640x480 with 1 Axes>"
            ],
            "image/png": "[encoded data removed]"
          },
          "metadata": {}
        }
      ],
      "source": [
        "final_model = tf.keras.models.load_model(checkpoint_path)\n",
        "from IPython.display import clear_output\n",
        "import time\n",
        "\n",
        "for k in range(40):\n",
        "        print(f'actual label is {label_to_text[y_test[k]]}')\n",
        "        predicted_class = final_model.predict(tf.expand_dims(X_test[k],0)).argmax()\n",
        "        print(f'predicted label is {label_to_text[predicted_class]}')\n",
        "        plt.imshow(X_test[k].reshape((48,48)))\n",
        "        plt.show()\n",
        "        time.sleep(3)\n",
        "        clear_output(wait=True)"
      ]
    },
    {
      "cell_type": "code",
      "execution_count": null,
      "metadata": {
        "id": "P6vjrJ8xTvyf"
      },
      "outputs": [],
      "source": []
    }
  ],
  "metadata": {
    "accelerator": "GPU",
    "colab": {
      "provenance": []
    },
    "kernelspec": {
      "display_name": "Python 3",
      "name": "python3"
    },
    "language_info": {
      "codemirror_mode": {
        "name": "ipython",
        "version": 3
      },
      "file_extension": ".py",
      "mimetype": "text/x-python",
      "name": "python",
      "nbconvert_exporter": "python",
      "pygments_lexer": "ipython3",
      "version": "3.11.5"
    }
  },
  "nbformat": 4,
  "nbformat_minor": 0
}